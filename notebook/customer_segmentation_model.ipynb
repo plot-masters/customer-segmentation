{
  "nbformat": 4,
  "nbformat_minor": 0,
  "metadata": {
    "colab": {
      "provenance": [],
      "include_colab_link": true
    },
    "kernelspec": {
      "name": "python3",
      "display_name": "Python 3"
    },
    "language_info": {
      "name": "python"
    }
  },
  "cells": [
    {
      "cell_type": "markdown",
      "metadata": {
        "id": "view-in-github",
        "colab_type": "text"
      },
      "source": [
        "<a href=\"https://colab.research.google.com/github/plot-masters/customer-segmentation/blob/main/notebook/customer_segmentation_model.ipynb\" target=\"_parent\"><img src=\"https://colab.research.google.com/assets/colab-badge.svg\" alt=\"Open In Colab\"/></a>"
      ]
    },
    {
      "cell_type": "markdown",
      "source": [
        "Apex Project: Team Plotmasters\n",
        "\n",
        "1.   Utkarsh Tripathi  (2025EM1100146)\n",
        "2.   Juwaria Qadri     (2025EM1100132)\n",
        "3.   Mohammed Omar     (2025EM1100235)\n",
        "4.   Merin Ann Cherian (2025EM1100211)\n",
        "\n",
        "\n",
        "\n",
        "\n",
        "\n"
      ],
      "metadata": {
        "id": "TuaBT4ISx2mo"
      }
    },
    {
      "cell_type": "code",
      "execution_count": null,
      "metadata": {
        "id": "HBmg2IfesVRA"
      },
      "outputs": [],
      "source": [
        "import pandas as pd\n",
        "\n",
        "df=pd.read_csv('/content/blinkit_orders.csv')"
      ]
    },
    {
      "cell_type": "code",
      "source": [
        "head_row=df.head(10)\n",
        "print(head_row)"
      ],
      "metadata": {
        "colab": {
          "base_uri": "https://localhost:8080/"
        },
        "id": "uCrrxITPi6vz",
        "outputId": "b769b182-f591-4d04-8fee-b17e3adb161f"
      },
      "execution_count": null,
      "outputs": [
        {
          "output_type": "stream",
          "name": "stdout",
          "text": [
            "     order_id  customer_id      order_date promised_delivery_time  \\\n",
            "0  1961864118     30065862   17-07-24 8:34          17-07-24 8:52   \n",
            "1  1549769649      9573071  28-05-24 13:14         28-05-24 13:25   \n",
            "2  9185164487     45477575  23-09-24 13:07         23-09-24 13:25   \n",
            "3  9644738826     88067569  24-11-23 16:16         24-11-23 16:34   \n",
            "4  5427684290     83298567   20-11-23 5:00          20-11-23 5:17   \n",
            "5  3265154092     43367112  18-03-23 16:29         18-03-23 16:49   \n",
            "6  4898355547     13284996  16-04-23 18:50         16-04-23 19:01   \n",
            "7  6568151549     88866835   31-03-24 6:26          31-03-24 6:37   \n",
            "8  6006693867     24496983  13-07-23 23:49          14-07-23 0:02   \n",
            "9   374186990     52215833   09-08-23 1:17          09-08-23 1:37   \n",
            "\n",
            "  actual_delivery_time   delivery_status  order_total payment_method  \\\n",
            "0        17-07-24 8:47           On Time      3197.07           Cash   \n",
            "1       28-05-24 13:27           On Time       976.55           Cash   \n",
            "2       23-09-24 13:29           On Time       839.05            UPI   \n",
            "3       24-11-23 16:33           On Time       440.23           Card   \n",
            "4        20-11-23 5:18           On Time      2526.68           Cash   \n",
            "5       18-03-23 16:48           On Time      3161.43            UPI   \n",
            "6       16-04-23 19:02           On Time       956.40           Card   \n",
            "7        31-03-24 6:39           On Time       905.47           Cash   \n",
            "8        14-07-23 0:05           On Time      1371.17           Card   \n",
            "9        09-08-23 1:44  Slightly Delayed      1601.19         Wallet   \n",
            "\n",
            "   delivery_partner_id  store_id  \n",
            "0                63230      4771  \n",
            "1                14983      7534  \n",
            "2                39859      9886  \n",
            "3                61497      7917  \n",
            "4                84315      2741  \n",
            "5                  554      3442  \n",
            "6                14630      1318  \n",
            "7                67714       115  \n",
            "8                91362      9021  \n",
            "9                77203      7955  \n"
          ]
        }
      ]
    },
    {
      "cell_type": "code",
      "source": [
        "df_info=df.info()"
      ],
      "metadata": {
        "colab": {
          "base_uri": "https://localhost:8080/"
        },
        "id": "ajpnOv7Yty1n",
        "outputId": "da862376-3a1e-4655-e44a-e3d015f95435"
      },
      "execution_count": null,
      "outputs": [
        {
          "output_type": "stream",
          "name": "stdout",
          "text": [
            "<class 'pandas.core.frame.DataFrame'>\n",
            "RangeIndex: 5000 entries, 0 to 4999\n",
            "Data columns (total 10 columns):\n",
            " #   Column                  Non-Null Count  Dtype  \n",
            "---  ------                  --------------  -----  \n",
            " 0   order_id                5000 non-null   int64  \n",
            " 1   customer_id             5000 non-null   int64  \n",
            " 2   order_date              5000 non-null   object \n",
            " 3   promised_delivery_time  5000 non-null   object \n",
            " 4   actual_delivery_time    5000 non-null   object \n",
            " 5   delivery_status         5000 non-null   object \n",
            " 6   order_total             5000 non-null   float64\n",
            " 7   payment_method          5000 non-null   object \n",
            " 8   delivery_partner_id     5000 non-null   int64  \n",
            " 9   store_id                5000 non-null   int64  \n",
            "dtypes: float64(1), int64(4), object(5)\n",
            "memory usage: 390.8+ KB\n"
          ]
        }
      ]
    },
    {
      "cell_type": "markdown",
      "source": [],
      "metadata": {
        "id": "BJdxRCMmtu2r"
      }
    },
    {
      "cell_type": "code",
      "source": [
        "print(df.isnull().sum())"
      ],
      "metadata": {
        "colab": {
          "base_uri": "https://localhost:8080/"
        },
        "id": "Gx8wAPAft2xg",
        "outputId": "a22dd6d4-f8dc-4af6-8264-cbe35a838d72"
      },
      "execution_count": null,
      "outputs": [
        {
          "output_type": "stream",
          "name": "stdout",
          "text": [
            "order_id                  0\n",
            "customer_id               0\n",
            "order_date                0\n",
            "promised_delivery_time    0\n",
            "actual_delivery_time      0\n",
            "delivery_status           0\n",
            "order_total               0\n",
            "payment_method            0\n",
            "delivery_partner_id       0\n",
            "store_id                  0\n",
            "dtype: int64\n"
          ]
        }
      ]
    },
    {
      "cell_type": "code",
      "source": [
        "#descriptive stats of the dataset\n",
        "descriptive_stats=df.describe()\n",
        "print(descriptive_stats)"
      ],
      "metadata": {
        "id": "xN9wVWovt31n",
        "colab": {
          "base_uri": "https://localhost:8080/"
        },
        "outputId": "71444e70-48d9-4406-d4ce-70f693b168c4"
      },
      "execution_count": null,
      "outputs": [
        {
          "output_type": "stream",
          "name": "stdout",
          "text": [
            "           order_id   customer_id  order_total  delivery_partner_id  \\\n",
            "count  5.000000e+03  5.000000e+03   5000.00000          5000.000000   \n",
            "mean   5.029129e+09  5.009685e+07   2201.86170         50050.318200   \n",
            "std    2.863533e+09  2.919082e+07   1303.02438         28802.276922   \n",
            "min    6.046500e+04  3.181300e+04     13.25000            43.000000   \n",
            "25%    2.531421e+09  2.404314e+07   1086.21500         24928.500000   \n",
            "50%    5.074378e+09  4.997808e+07   2100.69000         50262.500000   \n",
            "75%    7.488579e+09  7.621215e+07   3156.88250         74478.250000   \n",
            "max    9.998298e+09  9.989390e+07   6721.46000         99968.000000   \n",
            "\n",
            "          store_id  \n",
            "count  5000.000000  \n",
            "mean   4999.689000  \n",
            "std    2886.089242  \n",
            "min       1.000000  \n",
            "25%    2509.250000  \n",
            "50%    4987.000000  \n",
            "75%    7500.750000  \n",
            "max    9995.000000  \n"
          ]
        }
      ]
    },
    {
      "cell_type": "code",
      "source": [
        "df.dtypes"
      ],
      "metadata": {
        "colab": {
          "base_uri": "https://localhost:8080/",
          "height": 397
        },
        "id": "WiqpWM1MuDVg",
        "outputId": "30ee3661-644c-437c-8627-fddfb147b4f3"
      },
      "execution_count": null,
      "outputs": [
        {
          "output_type": "execute_result",
          "data": {
            "text/plain": [
              "order_id                    int64\n",
              "customer_id                 int64\n",
              "order_date                 object\n",
              "promised_delivery_time     object\n",
              "actual_delivery_time       object\n",
              "delivery_status            object\n",
              "order_total               float64\n",
              "payment_method             object\n",
              "delivery_partner_id         int64\n",
              "store_id                    int64\n",
              "dtype: object"
            ],
            "text/html": [
              "<div>\n",
              "<style scoped>\n",
              "    .dataframe tbody tr th:only-of-type {\n",
              "        vertical-align: middle;\n",
              "    }\n",
              "\n",
              "    .dataframe tbody tr th {\n",
              "        vertical-align: top;\n",
              "    }\n",
              "\n",
              "    .dataframe thead th {\n",
              "        text-align: right;\n",
              "    }\n",
              "</style>\n",
              "<table border=\"1\" class=\"dataframe\">\n",
              "  <thead>\n",
              "    <tr style=\"text-align: right;\">\n",
              "      <th></th>\n",
              "      <th>0</th>\n",
              "    </tr>\n",
              "  </thead>\n",
              "  <tbody>\n",
              "    <tr>\n",
              "      <th>order_id</th>\n",
              "      <td>int64</td>\n",
              "    </tr>\n",
              "    <tr>\n",
              "      <th>customer_id</th>\n",
              "      <td>int64</td>\n",
              "    </tr>\n",
              "    <tr>\n",
              "      <th>order_date</th>\n",
              "      <td>object</td>\n",
              "    </tr>\n",
              "    <tr>\n",
              "      <th>promised_delivery_time</th>\n",
              "      <td>object</td>\n",
              "    </tr>\n",
              "    <tr>\n",
              "      <th>actual_delivery_time</th>\n",
              "      <td>object</td>\n",
              "    </tr>\n",
              "    <tr>\n",
              "      <th>delivery_status</th>\n",
              "      <td>object</td>\n",
              "    </tr>\n",
              "    <tr>\n",
              "      <th>order_total</th>\n",
              "      <td>float64</td>\n",
              "    </tr>\n",
              "    <tr>\n",
              "      <th>payment_method</th>\n",
              "      <td>object</td>\n",
              "    </tr>\n",
              "    <tr>\n",
              "      <th>delivery_partner_id</th>\n",
              "      <td>int64</td>\n",
              "    </tr>\n",
              "    <tr>\n",
              "      <th>store_id</th>\n",
              "      <td>int64</td>\n",
              "    </tr>\n",
              "  </tbody>\n",
              "</table>\n",
              "</div><br><label><b>dtype:</b> object</label>"
            ]
          },
          "metadata": {},
          "execution_count": 6
        }
      ]
    },
    {
      "cell_type": "code",
      "source": [
        "#shape\n",
        "print(\"Shape of DataFrame:\", df.shape)\n",
        "print(\"\\nData Types:\\n\", df.dtypes)\n",
        "print(\"\\nFirst 5 Rows:\\n\", df.head())"
      ],
      "metadata": {
        "colab": {
          "base_uri": "https://localhost:8080/"
        },
        "id": "v0s5pe5JVlLo",
        "outputId": "b1f99bbe-a498-45ba-82bd-0ce1afed6d26"
      },
      "execution_count": null,
      "outputs": [
        {
          "output_type": "stream",
          "name": "stdout",
          "text": [
            "Shape of DataFrame: (5000, 10)\n",
            "\n",
            "Data Types:\n",
            " order_id                    int64\n",
            "customer_id                 int64\n",
            "order_date                 object\n",
            "promised_delivery_time     object\n",
            "actual_delivery_time       object\n",
            "delivery_status            object\n",
            "order_total               float64\n",
            "payment_method             object\n",
            "delivery_partner_id         int64\n",
            "store_id                    int64\n",
            "dtype: object\n",
            "\n",
            "First 5 Rows:\n",
            "      order_id  customer_id      order_date promised_delivery_time  \\\n",
            "0  1961864118     30065862   17-07-24 8:34          17-07-24 8:52   \n",
            "1  1549769649      9573071  28-05-24 13:14         28-05-24 13:25   \n",
            "2  9185164487     45477575  23-09-24 13:07         23-09-24 13:25   \n",
            "3  9644738826     88067569  24-11-23 16:16         24-11-23 16:34   \n",
            "4  5427684290     83298567   20-11-23 5:00          20-11-23 5:17   \n",
            "\n",
            "  actual_delivery_time delivery_status  order_total payment_method  \\\n",
            "0        17-07-24 8:47         On Time      3197.07           Cash   \n",
            "1       28-05-24 13:27         On Time       976.55           Cash   \n",
            "2       23-09-24 13:29         On Time       839.05            UPI   \n",
            "3       24-11-23 16:33         On Time       440.23           Card   \n",
            "4        20-11-23 5:18         On Time      2526.68           Cash   \n",
            "\n",
            "   delivery_partner_id  store_id  \n",
            "0                63230      4771  \n",
            "1                14983      7534  \n",
            "2                39859      9886  \n",
            "3                61497      7917  \n",
            "4                84315      2741  \n"
          ]
        }
      ]
    },
    {
      "cell_type": "code",
      "source": [
        "#missing values\n",
        "print(\"\\nMissing Values:\\n\", df.isnull().sum())"
      ],
      "metadata": {
        "colab": {
          "base_uri": "https://localhost:8080/"
        },
        "id": "oyEHhkNnVlJD",
        "outputId": "05bd1a6d-00fb-4d66-e46c-355f18d24c57"
      },
      "execution_count": null,
      "outputs": [
        {
          "output_type": "stream",
          "name": "stdout",
          "text": [
            "\n",
            "Missing Values:\n",
            " order_id                  0\n",
            "customer_id               0\n",
            "order_date                0\n",
            "promised_delivery_time    0\n",
            "actual_delivery_time      0\n",
            "delivery_status           0\n",
            "order_total               0\n",
            "payment_method            0\n",
            "delivery_partner_id       0\n",
            "store_id                  0\n",
            "dtype: int64\n"
          ]
        }
      ]
    },
    {
      "cell_type": "code",
      "source": [
        "# duplicates\n",
        "print(\"\\nNumber of Duplicated Rows:\", df.duplicated().sum())"
      ],
      "metadata": {
        "colab": {
          "base_uri": "https://localhost:8080/"
        },
        "id": "P-2HHsbpVlGl",
        "outputId": "d2fadb98-0591-485c-d715-c946f14a2e75"
      },
      "execution_count": null,
      "outputs": [
        {
          "output_type": "stream",
          "name": "stdout",
          "text": [
            "\n",
            "Number of Duplicated Rows: 0\n"
          ]
        }
      ]
    },
    {
      "cell_type": "code",
      "source": [
        "#checking anomalies\n",
        "print(\"\\nDescriptive Statistics:\\n\", df.describe(include='all'))"
      ],
      "metadata": {
        "colab": {
          "base_uri": "https://localhost:8080/"
        },
        "id": "w1p9YaFFVlEO",
        "outputId": "97ad4ddb-d073-466d-fd39-c45faa90d6fd"
      },
      "execution_count": null,
      "outputs": [
        {
          "output_type": "stream",
          "name": "stdout",
          "text": [
            "\n",
            "Descriptive Statistics:\n",
            "             order_id   customer_id     order_date promised_delivery_time  \\\n",
            "count   5.000000e+03  5.000000e+03           5000                   5000   \n",
            "unique           NaN           NaN           4981                   4982   \n",
            "top              NaN           NaN  29-11-23 5:51         12-11-23 20:17   \n",
            "freq             NaN           NaN              3                      2   \n",
            "mean    5.029129e+09  5.009685e+07            NaN                    NaN   \n",
            "std     2.863533e+09  2.919082e+07            NaN                    NaN   \n",
            "min     6.046500e+04  3.181300e+04            NaN                    NaN   \n",
            "25%     2.531421e+09  2.404314e+07            NaN                    NaN   \n",
            "50%     5.074378e+09  4.997808e+07            NaN                    NaN   \n",
            "75%     7.488579e+09  7.621215e+07            NaN                    NaN   \n",
            "max     9.998298e+09  9.989390e+07            NaN                    NaN   \n",
            "\n",
            "       actual_delivery_time delivery_status  order_total payment_method  \\\n",
            "count                  5000            5000   5000.00000           5000   \n",
            "unique                 4983               3          NaN              4   \n",
            "top           29-11-23 5:59         On Time          NaN           Card   \n",
            "freq                      2            3470          NaN           1285   \n",
            "mean                    NaN             NaN   2201.86170            NaN   \n",
            "std                     NaN             NaN   1303.02438            NaN   \n",
            "min                     NaN             NaN     13.25000            NaN   \n",
            "25%                     NaN             NaN   1086.21500            NaN   \n",
            "50%                     NaN             NaN   2100.69000            NaN   \n",
            "75%                     NaN             NaN   3156.88250            NaN   \n",
            "max                     NaN             NaN   6721.46000            NaN   \n",
            "\n",
            "        delivery_partner_id     store_id  \n",
            "count           5000.000000  5000.000000  \n",
            "unique                  NaN          NaN  \n",
            "top                     NaN          NaN  \n",
            "freq                    NaN          NaN  \n",
            "mean           50050.318200  4999.689000  \n",
            "std            28802.276922  2886.089242  \n",
            "min               43.000000     1.000000  \n",
            "25%            24928.500000  2509.250000  \n",
            "50%            50262.500000  4987.000000  \n",
            "75%            74478.250000  7500.750000  \n",
            "max            99968.000000  9995.000000  \n"
          ]
        }
      ]
    },
    {
      "cell_type": "code",
      "source": [
        "print(\"\\n Categorical Column Summary:\\n\", df.describe(include=['object']))"
      ],
      "metadata": {
        "colab": {
          "base_uri": "https://localhost:8080/"
        },
        "id": "P1TO7KiSVlB3",
        "outputId": "b1226ff7-310e-4f7b-fd33-486dae9c1f69"
      },
      "execution_count": null,
      "outputs": [
        {
          "output_type": "stream",
          "name": "stdout",
          "text": [
            "\n",
            " Categorical Column Summary:\n",
            "            order_date promised_delivery_time actual_delivery_time  \\\n",
            "count            5000                   5000                 5000   \n",
            "unique           4981                   4982                 4983   \n",
            "top     29-11-23 5:51         12-11-23 20:17        29-11-23 5:59   \n",
            "freq                3                      2                    2   \n",
            "\n",
            "       delivery_status payment_method  \n",
            "count             5000           5000  \n",
            "unique               3              4  \n",
            "top            On Time           Card  \n",
            "freq              3470           1285  \n"
          ]
        }
      ]
    },
    {
      "cell_type": "code",
      "source": [
        "if 'order_total' in df.columns:\n",
        "    invalid_order_total = df[df['order_total'] <= 0]\n",
        "    print(\"\\n Rows with Invalid (≤0) Order Total:\\n\", invalid_order_total)"
      ],
      "metadata": {
        "colab": {
          "base_uri": "https://localhost:8080/"
        },
        "id": "34wOqIOEVk_D",
        "outputId": "f5e4a541-9c4d-451f-90c1-a65577632978"
      },
      "execution_count": null,
      "outputs": [
        {
          "output_type": "stream",
          "name": "stdout",
          "text": [
            "\n",
            " Rows with Invalid (≤0) Order Total:\n",
            " Empty DataFrame\n",
            "Columns: [order_id, customer_id, order_date, promised_delivery_time, actual_delivery_time, delivery_status, order_total, payment_method, delivery_partner_id, store_id]\n",
            "Index: []\n"
          ]
        }
      ]
    },
    {
      "cell_type": "code",
      "source": [
        "#inconsistent date. need to be rectified before proceeding. need to be in the same format in all columns.\n",
        "#invalid rows can be removed\n",
        "if {'promised_delivery_time', 'actual_delivery_time'}.issubset(df.columns):\n",
        "    df['promised_delivery_time'] = pd.to_datetime(df['promised_delivery_time'], errors='coerce')\n",
        "    df['actual_delivery_time'] = pd.to_datetime(df['actual_delivery_time'], errors='coerce')\n",
        "    invalid_delivery = df[df['actual_delivery_time'] < df['order_date']]\n",
        "    print(\"\\nRows with Invalid Delivery Times (Before Order Date):\\n\", invalid_delivery)\n"
      ],
      "metadata": {
        "colab": {
          "base_uri": "https://localhost:8080/"
        },
        "id": "1mo-u-6-Vk8T",
        "outputId": "0a8c8a51-372d-4317-af4f-682363519174"
      },
      "execution_count": null,
      "outputs": [
        {
          "output_type": "stream",
          "name": "stderr",
          "text": [
            "/tmp/ipython-input-2044985845.py:4: UserWarning: Could not infer format, so each element will be parsed individually, falling back to `dateutil`. To ensure parsing is consistent and as-expected, please specify a format.\n",
            "  df['promised_delivery_time'] = pd.to_datetime(df['promised_delivery_time'], errors='coerce')\n",
            "/tmp/ipython-input-2044985845.py:5: UserWarning: Could not infer format, so each element will be parsed individually, falling back to `dateutil`. To ensure parsing is consistent and as-expected, please specify a format.\n",
            "  df['actual_delivery_time'] = pd.to_datetime(df['actual_delivery_time'], errors='coerce')\n"
          ]
        },
        {
          "output_type": "stream",
          "name": "stdout",
          "text": [
            "\n",
            "Rows with Invalid Delivery Times (Before Order Date):\n",
            "         order_id  customer_id      order_date promised_delivery_time  \\\n",
            "1281  2148242015     39093069  30-04-23 23:48    2023-01-05 00:04:00   \n",
            "1563  7821942520     84468124  12-02-24 23:57    2024-02-13 00:12:00   \n",
            "2933  3368317718     70867736  31-05-24 23:59    2024-01-06 00:17:00   \n",
            "\n",
            "     actual_delivery_time        delivery_status  order_total payment_method  \\\n",
            "1281  2023-01-05 00:33:00  Significantly Delayed      3239.66            UPI   \n",
            "1563  2024-02-13 00:13:00                On Time      2732.91         Wallet   \n",
            "2933  2024-01-06 00:12:00                On Time       914.88            UPI   \n",
            "\n",
            "      delivery_partner_id  store_id  \n",
            "1281                13676      9904  \n",
            "1563                11136      5805  \n",
            "2933                96055       522  \n"
          ]
        }
      ]
    },
    {
      "cell_type": "code",
      "source": [
        "#unique countsin each column\n",
        "print(\"Unique Value Counts per Column:\\n\", df.nunique())"
      ],
      "metadata": {
        "colab": {
          "base_uri": "https://localhost:8080/"
        },
        "id": "ASmXKIftVk5G",
        "outputId": "99fd582d-1ef0-4d1b-91d2-e055f2b89c81"
      },
      "execution_count": null,
      "outputs": [
        {
          "output_type": "stream",
          "name": "stdout",
          "text": [
            "Unique Value Counts per Column:\n",
            " order_id                  5000\n",
            "customer_id               2172\n",
            "order_date                4981\n",
            "promised_delivery_time    4982\n",
            "actual_delivery_time      4983\n",
            "delivery_status              3\n",
            "order_total               4550\n",
            "payment_method               4\n",
            "delivery_partner_id       5000\n",
            "store_id                  5000\n",
            "dtype: int64\n"
          ]
        }
      ]
    }
  ]
}