{
  "cells": [
    {
      "cell_type": "code",
      "execution_count": null,
      "metadata": {
        "id": "HBmg2IfesVRA"
      },
      "outputs": [],
      "source": [
        "import pandas as pd\n",
        "\n",
        "df=pd.read_csv('../resources/data/blinkit_orders.csv')"
      ]
    },
    {
      "cell_type": "code",
      "execution_count": null,
      "metadata": {
        "colab": {
          "base_uri": "https://localhost:8080/"
        },
        "id": "ajpnOv7Yty1n",
        "outputId": "42426013-f126-484b-90d1-7d1f813cdb5b"
      },
      "outputs": [
        {
          "name": "stdout",
          "output_type": "stream",
          "text": [
            "<class 'pandas.core.frame.DataFrame'>\n",
            "RangeIndex: 5000 entries, 0 to 4999\n",
            "Data columns (total 10 columns):\n",
            " #   Column                  Non-Null Count  Dtype  \n",
            "---  ------                  --------------  -----  \n",
            " 0   order_id                5000 non-null   int64  \n",
            " 1   customer_id             5000 non-null   int64  \n",
            " 2   order_date              5000 non-null   object \n",
            " 3   promised_delivery_time  5000 non-null   object \n",
            " 4   actual_delivery_time    5000 non-null   object \n",
            " 5   delivery_status         5000 non-null   object \n",
            " 6   order_total             5000 non-null   float64\n",
            " 7   payment_method          5000 non-null   object \n",
            " 8   delivery_partner_id     5000 non-null   int64  \n",
            " 9   store_id                5000 non-null   int64  \n",
            "dtypes: float64(1), int64(4), object(5)\n",
            "memory usage: 390.8+ KB\n"
          ]
        }
      ],
      "source": [
        "head_row=df.head(10)\n",
        "df_info=df.info()"
      ]
    },
    {
      "cell_type": "markdown",
      "metadata": {
        "id": "BJdxRCMmtu2r"
      },
      "source": []
    },
    {
      "cell_type": "code",
      "execution_count": null,
      "metadata": {
        "colab": {
          "base_uri": "https://localhost:8080/"
        },
        "id": "Gx8wAPAft2xg",
        "outputId": "6fd8b385-765c-4f72-e033-27489bc50d77"
      },
      "outputs": [
        {
          "name": "stdout",
          "output_type": "stream",
          "text": [
            "order_id                  0\n",
            "customer_id               0\n",
            "order_date                0\n",
            "promised_delivery_time    0\n",
            "actual_delivery_time      0\n",
            "delivery_status           0\n",
            "order_total               0\n",
            "payment_method            0\n",
            "delivery_partner_id       0\n",
            "store_id                  0\n",
            "dtype: int64\n"
          ]
        }
      ],
      "source": [
        "print(df.isnull().sum())"
      ]
    },
    {
      "cell_type": "code",
      "execution_count": 7,
      "metadata": {
        "id": "xN9wVWovt31n"
      },
      "outputs": [
        {
          "name": "stdout",
          "output_type": "stream",
          "text": [
            "           order_id   customer_id  order_total  delivery_partner_id  \\\n",
            "count  5.000000e+03  5.000000e+03   5000.00000          5000.000000   \n",
            "mean   5.029129e+09  5.009685e+07   2201.86170         50050.318200   \n",
            "std    2.863533e+09  2.919082e+07   1303.02438         28802.276922   \n",
            "min    6.046500e+04  3.181300e+04     13.25000            43.000000   \n",
            "25%    2.531421e+09  2.404314e+07   1086.21500         24928.500000   \n",
            "50%    5.074378e+09  4.997808e+07   2100.69000         50262.500000   \n",
            "75%    7.488579e+09  7.621215e+07   3156.88250         74478.250000   \n",
            "max    9.998298e+09  9.989390e+07   6721.46000         99968.000000   \n",
            "\n",
            "          store_id  \n",
            "count  5000.000000  \n",
            "mean   4999.689000  \n",
            "std    2886.089242  \n",
            "min       1.000000  \n",
            "25%    2509.250000  \n",
            "50%    4987.000000  \n",
            "75%    7500.750000  \n",
            "max    9995.000000  \n"
          ]
        }
      ],
      "source": [
        "#descriptive stats of the dataset\n",
        "descriptive_stats=df.describe()\n",
        "print(descriptive_stats)"
      ]
    },
    {
      "cell_type": "code",
      "execution_count": null,
      "metadata": {
        "colab": {
          "base_uri": "https://localhost:8080/",
          "height": 397
        },
        "id": "WiqpWM1MuDVg",
        "outputId": "e8f89ffd-39d2-4a77-e326-11719f199f91"
      },
      "outputs": [
        {
          "data": {
            "text/html": [
              "<div>\n",
              "<style scoped>\n",
              "    .dataframe tbody tr th:only-of-type {\n",
              "        vertical-align: middle;\n",
              "    }\n",
              "\n",
              "    .dataframe tbody tr th {\n",
              "        vertical-align: top;\n",
              "    }\n",
              "\n",
              "    .dataframe thead th {\n",
              "        text-align: right;\n",
              "    }\n",
              "</style>\n",
              "<table border=\"1\" class=\"dataframe\">\n",
              "  <thead>\n",
              "    <tr style=\"text-align: right;\">\n",
              "      <th></th>\n",
              "      <th>0</th>\n",
              "    </tr>\n",
              "  </thead>\n",
              "  <tbody>\n",
              "    <tr>\n",
              "      <th>order_id</th>\n",
              "      <td>int64</td>\n",
              "    </tr>\n",
              "    <tr>\n",
              "      <th>customer_id</th>\n",
              "      <td>int64</td>\n",
              "    </tr>\n",
              "    <tr>\n",
              "      <th>order_date</th>\n",
              "      <td>object</td>\n",
              "    </tr>\n",
              "    <tr>\n",
              "      <th>promised_delivery_time</th>\n",
              "      <td>object</td>\n",
              "    </tr>\n",
              "    <tr>\n",
              "      <th>actual_delivery_time</th>\n",
              "      <td>object</td>\n",
              "    </tr>\n",
              "    <tr>\n",
              "      <th>delivery_status</th>\n",
              "      <td>object</td>\n",
              "    </tr>\n",
              "    <tr>\n",
              "      <th>order_total</th>\n",
              "      <td>float64</td>\n",
              "    </tr>\n",
              "    <tr>\n",
              "      <th>payment_method</th>\n",
              "      <td>object</td>\n",
              "    </tr>\n",
              "    <tr>\n",
              "      <th>delivery_partner_id</th>\n",
              "      <td>int64</td>\n",
              "    </tr>\n",
              "    <tr>\n",
              "      <th>store_id</th>\n",
              "      <td>int64</td>\n",
              "    </tr>\n",
              "  </tbody>\n",
              "</table>\n",
              "</div><br><label><b>dtype:</b> object</label>"
            ],
            "text/plain": [
              "order_id                    int64\n",
              "customer_id                 int64\n",
              "order_date                 object\n",
              "promised_delivery_time     object\n",
              "actual_delivery_time       object\n",
              "delivery_status            object\n",
              "order_total               float64\n",
              "payment_method             object\n",
              "delivery_partner_id         int64\n",
              "store_id                    int64\n",
              "dtype: object"
            ]
          },
          "execution_count": 6,
          "metadata": {},
          "output_type": "execute_result"
        }
      ],
      "source": [
        "df.dtypes"
      ]
    }
  ],
  "metadata": {
    "colab": {
      "provenance": []
    },
    "kernelspec": {
      "display_name": "DS",
      "language": "python",
      "name": "python3"
    },
    "language_info": {
      "codemirror_mode": {
        "name": "ipython",
        "version": 3
      },
      "file_extension": ".py",
      "mimetype": "text/x-python",
      "name": "python",
      "nbconvert_exporter": "python",
      "pygments_lexer": "ipython3",
      "version": "3.12.4"
    }
  },
  "nbformat": 4,
  "nbformat_minor": 0
}
