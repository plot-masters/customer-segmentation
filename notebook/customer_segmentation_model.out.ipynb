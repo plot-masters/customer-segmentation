{
 "cells": [
  {
   "cell_type": "markdown",
   "metadata": {},
   "source": [
    "#"
   ],
   "id": "9ad3dc1e-f2d3-4058-b972-c8358440ccbc"
  },
  {
   "cell_type": "code",
   "execution_count": null,
   "metadata": {},
   "outputs": [],
   "source": [
    "import pandas as pd\n",
    "\n",
    "df=pd.read_csv('../resources/data/blinkit_orders.csv')"
   ],
   "id": "cell-0"
  },
  {
   "cell_type": "code",
   "execution_count": null,
   "metadata": {
    "outputId": "42426013-f126-484b-90d1-7d1f813cdb5b",
    "quarto-private-1": {
     "key": "colab",
     "value": {
      "base_uri": "https://localhost:8080/"
     }
    }
   },
   "outputs": [
    {
     "output_type": "stream",
     "name": "stdout",
     "text": [
      "<class 'pandas.core.frame.DataFrame'>\n",
      "RangeIndex: 5000 entries, 0 to 4999\n",
      "Data columns (total 10 columns):\n",
      " #   Column                  Non-Null Count  Dtype  \n",
      "---  ------                  --------------  -----  \n",
      " 0   order_id                5000 non-null   int64  \n",
      " 1   customer_id             5000 non-null   int64  \n",
      " 2   order_date              5000 non-null   object \n",
      " 3   promised_delivery_time  5000 non-null   object \n",
      " 4   actual_delivery_time    5000 non-null   object \n",
      " 5   delivery_status         5000 non-null   object \n",
      " 6   order_total             5000 non-null   float64\n",
      " 7   payment_method          5000 non-null   object \n",
      " 8   delivery_partner_id     5000 non-null   int64  \n",
      " 9   store_id                5000 non-null   int64  \n",
      "dtypes: float64(1), int64(4), object(5)\n",
      "memory usage: 390.8+ KB"
     ]
    }
   ],
   "source": [
    "head_row=df.head(10)\n",
    "df_info=df.info()"
   ],
   "id": "cell-1"
  },
  {
   "cell_type": "markdown",
   "metadata": {},
   "source": [],
   "id": "cell-2"
  },
  {
   "cell_type": "code",
   "execution_count": null,
   "metadata": {
    "outputId": "6fd8b385-765c-4f72-e033-27489bc50d77",
    "quarto-private-1": {
     "key": "colab",
     "value": {
      "base_uri": "https://localhost:8080/"
     }
    }
   },
   "outputs": [
    {
     "output_type": "stream",
     "name": "stdout",
     "text": [
      "order_id                  0\n",
      "customer_id               0\n",
      "order_date                0\n",
      "promised_delivery_time    0\n",
      "actual_delivery_time      0\n",
      "delivery_status           0\n",
      "order_total               0\n",
      "payment_method            0\n",
      "delivery_partner_id       0\n",
      "store_id                  0\n",
      "dtype: int64"
     ]
    }
   ],
   "source": [
    "print(df.isnull().sum())"
   ],
   "id": "cell-3"
  },
  {
   "cell_type": "code",
   "execution_count": 7,
   "metadata": {},
   "outputs": [
    {
     "output_type": "stream",
     "name": "stdout",
     "text": [
      "           order_id   customer_id  order_total  delivery_partner_id  \\\n",
      "count  5.000000e+03  5.000000e+03   5000.00000          5000.000000   \n",
      "mean   5.029129e+09  5.009685e+07   2201.86170         50050.318200   \n",
      "std    2.863533e+09  2.919082e+07   1303.02438         28802.276922   \n",
      "min    6.046500e+04  3.181300e+04     13.25000            43.000000   \n",
      "25%    2.531421e+09  2.404314e+07   1086.21500         24928.500000   \n",
      "50%    5.074378e+09  4.997808e+07   2100.69000         50262.500000   \n",
      "75%    7.488579e+09  7.621215e+07   3156.88250         74478.250000   \n",
      "max    9.998298e+09  9.989390e+07   6721.46000         99968.000000   \n",
      "\n",
      "          store_id  \n",
      "count  5000.000000  \n",
      "mean   4999.689000  \n",
      "std    2886.089242  \n",
      "min       1.000000  \n",
      "25%    2509.250000  \n",
      "50%    4987.000000  \n",
      "75%    7500.750000  \n",
      "max    9995.000000  "
     ]
    }
   ],
   "source": [
    "#descriptive stats of the dataset\n",
    "descriptive_stats=df.describe()\n",
    "print(descriptive_stats)"
   ],
   "id": "cell-4"
  },
  {
   "cell_type": "code",
   "execution_count": null,
   "metadata": {
    "outputId": "e8f89ffd-39d2-4a77-e326-11719f199f91",
    "quarto-private-1": {
     "key": "colab",
     "value": {
      "base_uri": "https://localhost:8080/",
      "height": 397
     }
    }
   },
   "outputs": [
    {
     "output_type": "display_data",
     "metadata": {},
     "data": {
      "text/html": [
       "\n",
       "</div><br><label><b>dtype:</b> object</label>"
      ]
     }
    }
   ],
   "source": [
    "df.dtypes"
   ],
   "id": "cell-5"
  }
 ],
 "nbformat": 4,
 "nbformat_minor": 5,
 "metadata": {}
}
