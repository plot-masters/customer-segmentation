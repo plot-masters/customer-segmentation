{
  "cells": [
    {
      "cell_type": "markdown",
      "metadata": {
        "id": "TuaBT4ISx2mo"
      },
      "source": [
        "Apex Project: Team Plotmasters\n",
        "\n",
        "1.   Utkarsh Tripathi  (2025EM1100146)\n",
        "2.   Juwaria Qadri     (2025EM1100132)\n",
        "3.   Mohammed Omar     (2025EM1100235)\n",
        "4.   Merin Ann Cherian (2025EM1100211)\n",
        "\n",
        "\n",
        "\n",
        "\n",
        "\n"
      ]
    },
    {
      "cell_type": "code",
      "execution_count": 4,
      "metadata": {
        "id": "HBmg2IfesVRA"
      },
      "outputs": [],
      "source": [
        "import pandas as pd\n",
        "\n",
        "df=pd.read_csv('../resources/data/blinkit_orders.csv')"
      ]
    },
    {
      "cell_type": "code",
      "execution_count": 6,
      "metadata": {
        "tags": [
          "data_dictionary"
        ]
      },
      "outputs": [
        {
          "data": {
            "text/html": [
              "<div>\n",
              "<style scoped>\n",
              "    .dataframe tbody tr th:only-of-type {\n",
              "        vertical-align: middle;\n",
              "    }\n",
              "\n",
              "    .dataframe tbody tr th {\n",
              "        vertical-align: top;\n",
              "    }\n",
              "\n",
              "    .dataframe thead th {\n",
              "        text-align: right;\n",
              "    }\n",
              "</style>\n",
              "<table border=\"1\" class=\"dataframe\">\n",
              "  <thead>\n",
              "    <tr style=\"text-align: right;\">\n",
              "      <th></th>\n",
              "      <th>Feature Name</th>\n",
              "      <th>Data Type</th>\n",
              "      <th>Description</th>\n",
              "      <th>PK (Yes/No)</th>\n",
              "    </tr>\n",
              "  </thead>\n",
              "  <tbody>\n",
              "    <tr>\n",
              "      <th>0</th>\n",
              "      <td>order_id</td>\n",
              "      <td>int64</td>\n",
              "      <td>Unique identifier for each order</td>\n",
              "      <td>Yes</td>\n",
              "    </tr>\n",
              "    <tr>\n",
              "      <th>1</th>\n",
              "      <td>customer_id</td>\n",
              "      <td>int64</td>\n",
              "      <td>Unique identifier for each customer</td>\n",
              "      <td>No</td>\n",
              "    </tr>\n",
              "    <tr>\n",
              "      <th>2</th>\n",
              "      <td>order_date</td>\n",
              "      <td>object</td>\n",
              "      <td>The timestamp when the order was placed</td>\n",
              "      <td>No</td>\n",
              "    </tr>\n",
              "    <tr>\n",
              "      <th>3</th>\n",
              "      <td>promised_delivery_time</td>\n",
              "      <td>object</td>\n",
              "      <td>The time informed to the customer for completi...</td>\n",
              "      <td>No</td>\n",
              "    </tr>\n",
              "    <tr>\n",
              "      <th>4</th>\n",
              "      <td>actual_delivery_time</td>\n",
              "      <td>object</td>\n",
              "      <td>The actual time when the order was delivered</td>\n",
              "      <td>No</td>\n",
              "    </tr>\n",
              "    <tr>\n",
              "      <th>5</th>\n",
              "      <td>delivery_status</td>\n",
              "      <td>object</td>\n",
              "      <td>The  delivery status of the order</td>\n",
              "      <td>No</td>\n",
              "    </tr>\n",
              "    <tr>\n",
              "      <th>6</th>\n",
              "      <td>order_total</td>\n",
              "      <td>float64</td>\n",
              "      <td>The total price of the order (in Rupees)</td>\n",
              "      <td>No</td>\n",
              "    </tr>\n",
              "    <tr>\n",
              "      <th>7</th>\n",
              "      <td>payment_method</td>\n",
              "      <td>object</td>\n",
              "      <td>The payment method used by the customer</td>\n",
              "      <td>No</td>\n",
              "    </tr>\n",
              "    <tr>\n",
              "      <th>8</th>\n",
              "      <td>delivery_partner_id</td>\n",
              "      <td>int64</td>\n",
              "      <td>Unique identifier representing the delivery pa...</td>\n",
              "      <td>No</td>\n",
              "    </tr>\n",
              "    <tr>\n",
              "      <th>9</th>\n",
              "      <td>store_id</td>\n",
              "      <td>int64</td>\n",
              "      <td>Unique identifier for the store that fulfilled...</td>\n",
              "      <td>No</td>\n",
              "    </tr>\n",
              "  </tbody>\n",
              "</table>\n",
              "</div>"
            ],
            "text/plain": [
              "             Feature Name Data Type  \\\n",
              "0                order_id     int64   \n",
              "1             customer_id     int64   \n",
              "2              order_date    object   \n",
              "3  promised_delivery_time    object   \n",
              "4    actual_delivery_time    object   \n",
              "5         delivery_status    object   \n",
              "6             order_total   float64   \n",
              "7          payment_method    object   \n",
              "8     delivery_partner_id     int64   \n",
              "9                store_id     int64   \n",
              "\n",
              "                                         Description PK (Yes/No)  \n",
              "0                   Unique identifier for each order         Yes  \n",
              "1                Unique identifier for each customer          No  \n",
              "2            The timestamp when the order was placed          No  \n",
              "3  The time informed to the customer for completi...          No  \n",
              "4      The actual time when the order was delivered           No  \n",
              "5                  The  delivery status of the order          No  \n",
              "6           The total price of the order (in Rupees)          No  \n",
              "7            The payment method used by the customer          No  \n",
              "8  Unique identifier representing the delivery pa...          No  \n",
              "9  Unique identifier for the store that fulfilled...          No  "
            ]
          },
          "metadata": {},
          "output_type": "display_data"
        }
      ],
      "source": [
        "# Data Dictionary\n",
        "\n",
        "df_dictionary = pd.read_csv('../resources/Data_Dictionary.csv')\n",
        "display(df_dictionary)"
      ]
    },
    {
      "cell_type": "code",
      "execution_count": null,
      "metadata": {
        "colab": {
          "base_uri": "https://localhost:8080/"
        },
        "id": "ajpnOv7Yty1n",
        "outputId": "42426013-f126-484b-90d1-7d1f813cdb5b"
      },
      "outputs": [
        {
          "name": "stdout",
          "output_type": "stream",
          "text": [
            "<class 'pandas.core.frame.DataFrame'>\n",
            "RangeIndex: 5000 entries, 0 to 4999\n",
            "Data columns (total 10 columns):\n",
            " #   Column                  Non-Null Count  Dtype  \n",
            "---  ------                  --------------  -----  \n",
            " 0   order_id                5000 non-null   int64  \n",
            " 1   customer_id             5000 non-null   int64  \n",
            " 2   order_date              5000 non-null   object \n",
            " 3   promised_delivery_time  5000 non-null   object \n",
            " 4   actual_delivery_time    5000 non-null   object \n",
            " 5   delivery_status         5000 non-null   object \n",
            " 6   order_total             5000 non-null   float64\n",
            " 7   payment_method          5000 non-null   object \n",
            " 8   delivery_partner_id     5000 non-null   int64  \n",
            " 9   store_id                5000 non-null   int64  \n",
            "dtypes: float64(1), int64(4), object(5)\n",
            "memory usage: 390.8+ KB\n"
          ]
        }
      ],
      "source": [
        "head_row=df.head(10)\n",
        "df_info=df.info()"
      ]
    },
    {
      "cell_type": "markdown",
      "metadata": {
        "id": "BJdxRCMmtu2r"
      },
      "source": []
    },
    {
      "cell_type": "code",
      "execution_count": null,
      "metadata": {
        "colab": {
          "base_uri": "https://localhost:8080/"
        },
        "id": "Gx8wAPAft2xg",
        "outputId": "6fd8b385-765c-4f72-e033-27489bc50d77"
      },
      "outputs": [
        {
          "name": "stdout",
          "output_type": "stream",
          "text": [
            "order_id                  0\n",
            "customer_id               0\n",
            "order_date                0\n",
            "promised_delivery_time    0\n",
            "actual_delivery_time      0\n",
            "delivery_status           0\n",
            "order_total               0\n",
            "payment_method            0\n",
            "delivery_partner_id       0\n",
            "store_id                  0\n",
            "dtype: int64\n"
          ]
        }
      ],
      "source": [
        "print(df.isnull().sum())"
      ]
    },
    {
      "cell_type": "code",
      "execution_count": null,
      "metadata": {
        "id": "xN9wVWovt31n"
      },
      "outputs": [],
      "source": [
        "#descriptive stats of the dataset\n",
        "descriptive_stats=df.describe()\n",
        "print(descriptive_stats)"
      ]
    },
    {
      "cell_type": "code",
      "execution_count": null,
      "metadata": {
        "colab": {
          "base_uri": "https://localhost:8080/",
          "height": 397
        },
        "id": "WiqpWM1MuDVg",
        "outputId": "e8f89ffd-39d2-4a77-e326-11719f199f91"
      },
      "outputs": [
        {
          "data": {
            "text/html": [
              "<div>\n",
              "<style scoped>\n",
              "    .dataframe tbody tr th:only-of-type {\n",
              "        vertical-align: middle;\n",
              "    }\n",
              "\n",
              "    .dataframe tbody tr th {\n",
              "        vertical-align: top;\n",
              "    }\n",
              "\n",
              "    .dataframe thead th {\n",
              "        text-align: right;\n",
              "    }\n",
              "</style>\n",
              "<table border=\"1\" class=\"dataframe\">\n",
              "  <thead>\n",
              "    <tr style=\"text-align: right;\">\n",
              "      <th></th>\n",
              "      <th>0</th>\n",
              "    </tr>\n",
              "  </thead>\n",
              "  <tbody>\n",
              "    <tr>\n",
              "      <th>order_id</th>\n",
              "      <td>int64</td>\n",
              "    </tr>\n",
              "    <tr>\n",
              "      <th>customer_id</th>\n",
              "      <td>int64</td>\n",
              "    </tr>\n",
              "    <tr>\n",
              "      <th>order_date</th>\n",
              "      <td>object</td>\n",
              "    </tr>\n",
              "    <tr>\n",
              "      <th>promised_delivery_time</th>\n",
              "      <td>object</td>\n",
              "    </tr>\n",
              "    <tr>\n",
              "      <th>actual_delivery_time</th>\n",
              "      <td>object</td>\n",
              "    </tr>\n",
              "    <tr>\n",
              "      <th>delivery_status</th>\n",
              "      <td>object</td>\n",
              "    </tr>\n",
              "    <tr>\n",
              "      <th>order_total</th>\n",
              "      <td>float64</td>\n",
              "    </tr>\n",
              "    <tr>\n",
              "      <th>payment_method</th>\n",
              "      <td>object</td>\n",
              "    </tr>\n",
              "    <tr>\n",
              "      <th>delivery_partner_id</th>\n",
              "      <td>int64</td>\n",
              "    </tr>\n",
              "    <tr>\n",
              "      <th>store_id</th>\n",
              "      <td>int64</td>\n",
              "    </tr>\n",
              "  </tbody>\n",
              "</table>\n",
              "</div><br><label><b>dtype:</b> object</label>"
            ],
            "text/plain": [
              "order_id                    int64\n",
              "customer_id                 int64\n",
              "order_date                 object\n",
              "promised_delivery_time     object\n",
              "actual_delivery_time       object\n",
              "delivery_status            object\n",
              "order_total               float64\n",
              "payment_method             object\n",
              "delivery_partner_id         int64\n",
              "store_id                    int64\n",
              "dtype: object"
            ]
          },
          "execution_count": 6,
          "metadata": {},
          "output_type": "execute_result"
        }
      ],
      "source": [
        "df.dtypes"
      ]
    }
  ],
  "metadata": {
    "colab": {
      "provenance": []
    },
    "kernelspec": {
      "display_name": "DS",
      "language": "python",
      "name": "python3"
    },
    "language_info": {
      "codemirror_mode": {
        "name": "ipython",
        "version": 3
      },
      "file_extension": ".py",
      "mimetype": "text/x-python",
      "name": "python",
      "nbconvert_exporter": "python",
      "pygments_lexer": "ipython3",
      "version": "3.12.4"
    }
  },
  "nbformat": 4,
  "nbformat_minor": 0
}
