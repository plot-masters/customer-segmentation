{
  "cells": [
    {
      "cell_type": "markdown",
      "metadata": {
        "colab_type": "text",
        "id": "view-in-github"
      },
      "source": [
        "<a href=\"https://colab.research.google.com/github/plot-masters/customer-segmentation/blob/main/notebook/customer_segmentation_model.ipynb\" target=\"_parent\"><img src=\"https://colab.research.google.com/assets/colab-badge.svg\" alt=\"Open In Colab\"/></a>"
      ]
    },
    {
      "cell_type": "markdown",
      "metadata": {
        "id": "TuaBT4ISx2mo"
      },
      "source": [
        "## Customer Segmentation Modelling"
      ]
    },
    {
      "cell_type": "code",
      "execution_count": null,
      "metadata": {
        "id": "HBmg2IfesVRA"
      },
      "outputs": [],
      "source": [
        "import pandas as pd\n",
        "\n",
        "df=pd.read_csv('/content/blinkit_orders.csv')"
      ]
    },
    {
      "cell_type": "code",
      "execution_count": 8,
      "metadata": {
        "colab": {
          "base_uri": "https://localhost:8080/"
        },
        "id": "uCrrxITPi6vz",
        "outputId": "b769b182-f591-4d04-8fee-b17e3adb161f"
      },
      "outputs": [
        {
          "data": {
            "text/html": [
              "<div>\n",
              "<style scoped>\n",
              "    .dataframe tbody tr th:only-of-type {\n",
              "        vertical-align: middle;\n",
              "    }\n",
              "\n",
              "    .dataframe tbody tr th {\n",
              "        vertical-align: top;\n",
              "    }\n",
              "\n",
              "    .dataframe thead th {\n",
              "        text-align: right;\n",
              "    }\n",
              "</style>\n",
              "<table border=\"1\" class=\"dataframe\">\n",
              "  <thead>\n",
              "    <tr style=\"text-align: right;\">\n",
              "      <th></th>\n",
              "      <th>order_id</th>\n",
              "      <th>customer_id</th>\n",
              "      <th>order_date</th>\n",
              "      <th>promised_delivery_time</th>\n",
              "      <th>actual_delivery_time</th>\n",
              "      <th>delivery_status</th>\n",
              "      <th>order_total</th>\n",
              "      <th>payment_method</th>\n",
              "      <th>delivery_partner_id</th>\n",
              "      <th>store_id</th>\n",
              "    </tr>\n",
              "  </thead>\n",
              "  <tbody>\n",
              "    <tr>\n",
              "      <th>0</th>\n",
              "      <td>1961864118</td>\n",
              "      <td>30065862</td>\n",
              "      <td>2024-07-17 08:34:01</td>\n",
              "      <td>2024-07-17 08:52:01</td>\n",
              "      <td>2024-07-17 08:47:01</td>\n",
              "      <td>On Time</td>\n",
              "      <td>3197.07</td>\n",
              "      <td>Cash</td>\n",
              "      <td>63230</td>\n",
              "      <td>4771</td>\n",
              "    </tr>\n",
              "    <tr>\n",
              "      <th>1</th>\n",
              "      <td>1549769649</td>\n",
              "      <td>9573071</td>\n",
              "      <td>2024-05-28 13:14:29</td>\n",
              "      <td>2024-05-28 13:25:29</td>\n",
              "      <td>2024-05-28 13:27:29</td>\n",
              "      <td>On Time</td>\n",
              "      <td>976.55</td>\n",
              "      <td>Cash</td>\n",
              "      <td>14983</td>\n",
              "      <td>7534</td>\n",
              "    </tr>\n",
              "    <tr>\n",
              "      <th>2</th>\n",
              "      <td>9185164487</td>\n",
              "      <td>45477575</td>\n",
              "      <td>2024-09-23 13:07:12</td>\n",
              "      <td>2024-09-23 13:25:12</td>\n",
              "      <td>2024-09-23 13:29:12</td>\n",
              "      <td>On Time</td>\n",
              "      <td>839.05</td>\n",
              "      <td>UPI</td>\n",
              "      <td>39859</td>\n",
              "      <td>9886</td>\n",
              "    </tr>\n",
              "    <tr>\n",
              "      <th>3</th>\n",
              "      <td>9644738826</td>\n",
              "      <td>88067569</td>\n",
              "      <td>2023-11-24 16:16:56</td>\n",
              "      <td>2023-11-24 16:34:56</td>\n",
              "      <td>2023-11-24 16:33:56</td>\n",
              "      <td>On Time</td>\n",
              "      <td>440.23</td>\n",
              "      <td>Card</td>\n",
              "      <td>61497</td>\n",
              "      <td>7917</td>\n",
              "    </tr>\n",
              "    <tr>\n",
              "      <th>4</th>\n",
              "      <td>5427684290</td>\n",
              "      <td>83298567</td>\n",
              "      <td>2023-11-20 05:00:39</td>\n",
              "      <td>2023-11-20 05:17:39</td>\n",
              "      <td>2023-11-20 05:18:39</td>\n",
              "      <td>On Time</td>\n",
              "      <td>2526.68</td>\n",
              "      <td>Cash</td>\n",
              "      <td>84315</td>\n",
              "      <td>2741</td>\n",
              "    </tr>\n",
              "    <tr>\n",
              "      <th>5</th>\n",
              "      <td>3265154092</td>\n",
              "      <td>43367112</td>\n",
              "      <td>2023-03-18 16:29:51</td>\n",
              "      <td>2023-03-18 16:49:51</td>\n",
              "      <td>2023-03-18 16:48:51</td>\n",
              "      <td>On Time</td>\n",
              "      <td>3161.43</td>\n",
              "      <td>UPI</td>\n",
              "      <td>554</td>\n",
              "      <td>3442</td>\n",
              "    </tr>\n",
              "    <tr>\n",
              "      <th>6</th>\n",
              "      <td>4898355547</td>\n",
              "      <td>13284996</td>\n",
              "      <td>2023-04-16 18:50:37</td>\n",
              "      <td>2023-04-16 19:01:37</td>\n",
              "      <td>2023-04-16 19:02:37</td>\n",
              "      <td>On Time</td>\n",
              "      <td>956.40</td>\n",
              "      <td>Card</td>\n",
              "      <td>14630</td>\n",
              "      <td>1318</td>\n",
              "    </tr>\n",
              "    <tr>\n",
              "      <th>7</th>\n",
              "      <td>6568151549</td>\n",
              "      <td>88866835</td>\n",
              "      <td>2024-03-31 06:26:48</td>\n",
              "      <td>2024-03-31 06:37:48</td>\n",
              "      <td>2024-03-31 06:39:48</td>\n",
              "      <td>On Time</td>\n",
              "      <td>905.47</td>\n",
              "      <td>Cash</td>\n",
              "      <td>67714</td>\n",
              "      <td>115</td>\n",
              "    </tr>\n",
              "    <tr>\n",
              "      <th>8</th>\n",
              "      <td>6006693867</td>\n",
              "      <td>24496983</td>\n",
              "      <td>2023-07-13 23:49:36</td>\n",
              "      <td>2023-07-14 00:02:36</td>\n",
              "      <td>2023-07-14 00:05:36</td>\n",
              "      <td>On Time</td>\n",
              "      <td>1371.17</td>\n",
              "      <td>Card</td>\n",
              "      <td>91362</td>\n",
              "      <td>9021</td>\n",
              "    </tr>\n",
              "    <tr>\n",
              "      <th>9</th>\n",
              "      <td>374186990</td>\n",
              "      <td>52215833</td>\n",
              "      <td>2023-08-09 01:17:30</td>\n",
              "      <td>2023-08-09 01:37:30</td>\n",
              "      <td>2023-08-09 01:44:30</td>\n",
              "      <td>Slightly Delayed</td>\n",
              "      <td>1601.19</td>\n",
              "      <td>Wallet</td>\n",
              "      <td>77203</td>\n",
              "      <td>7955</td>\n",
              "    </tr>\n",
              "  </tbody>\n",
              "</table>\n",
              "</div>"
            ],
            "text/plain": [
              "     order_id  customer_id           order_date promised_delivery_time  \\\n",
              "0  1961864118     30065862  2024-07-17 08:34:01    2024-07-17 08:52:01   \n",
              "1  1549769649      9573071  2024-05-28 13:14:29    2024-05-28 13:25:29   \n",
              "2  9185164487     45477575  2024-09-23 13:07:12    2024-09-23 13:25:12   \n",
              "3  9644738826     88067569  2023-11-24 16:16:56    2023-11-24 16:34:56   \n",
              "4  5427684290     83298567  2023-11-20 05:00:39    2023-11-20 05:17:39   \n",
              "5  3265154092     43367112  2023-03-18 16:29:51    2023-03-18 16:49:51   \n",
              "6  4898355547     13284996  2023-04-16 18:50:37    2023-04-16 19:01:37   \n",
              "7  6568151549     88866835  2024-03-31 06:26:48    2024-03-31 06:37:48   \n",
              "8  6006693867     24496983  2023-07-13 23:49:36    2023-07-14 00:02:36   \n",
              "9   374186990     52215833  2023-08-09 01:17:30    2023-08-09 01:37:30   \n",
              "\n",
              "  actual_delivery_time   delivery_status  order_total payment_method  \\\n",
              "0  2024-07-17 08:47:01           On Time      3197.07           Cash   \n",
              "1  2024-05-28 13:27:29           On Time       976.55           Cash   \n",
              "2  2024-09-23 13:29:12           On Time       839.05            UPI   \n",
              "3  2023-11-24 16:33:56           On Time       440.23           Card   \n",
              "4  2023-11-20 05:18:39           On Time      2526.68           Cash   \n",
              "5  2023-03-18 16:48:51           On Time      3161.43            UPI   \n",
              "6  2023-04-16 19:02:37           On Time       956.40           Card   \n",
              "7  2024-03-31 06:39:48           On Time       905.47           Cash   \n",
              "8  2023-07-14 00:05:36           On Time      1371.17           Card   \n",
              "9  2023-08-09 01:44:30  Slightly Delayed      1601.19         Wallet   \n",
              "\n",
              "   delivery_partner_id  store_id  \n",
              "0                63230      4771  \n",
              "1                14983      7534  \n",
              "2                39859      9886  \n",
              "3                61497      7917  \n",
              "4                84315      2741  \n",
              "5                  554      3442  \n",
              "6                14630      1318  \n",
              "7                67714       115  \n",
              "8                91362      9021  \n",
              "9                77203      7955  "
            ]
          },
          "metadata": {},
          "output_type": "display_data"
        }
      ],
      "source": [
        "head_row=df.head(10)\n",
        "display(head_row)"
      ]
    },
    {
      "cell_type": "code",
      "execution_count": 24,
      "metadata": {
        "colab": {
          "base_uri": "https://localhost:8080/"
        },
        "id": "ajpnOv7Yty1n",
        "outputId": "da862376-3a1e-4655-e44a-e3d015f95435"
      },
      "outputs": [
        {
          "name": "stdout",
          "output_type": "stream",
          "text": [
            "<class 'pandas.core.frame.DataFrame'>\n",
            "RangeIndex: 5000 entries, 0 to 4999\n",
            "Data columns (total 10 columns):\n",
            " #   Column                  Non-Null Count  Dtype  \n",
            "---  ------                  --------------  -----  \n",
            " 0   order_id                5000 non-null   int64  \n",
            " 1   customer_id             5000 non-null   int64  \n",
            " 2   order_date              5000 non-null   object \n",
            " 3   promised_delivery_time  5000 non-null   object \n",
            " 4   actual_delivery_time    5000 non-null   object \n",
            " 5   delivery_status         5000 non-null   object \n",
            " 6   order_total             5000 non-null   float64\n",
            " 7   payment_method          5000 non-null   object \n",
            " 8   delivery_partner_id     5000 non-null   int64  \n",
            " 9   store_id                5000 non-null   int64  \n",
            "dtypes: float64(1), int64(4), object(5)\n",
            "memory usage: 390.8+ KB\n"
          ]
        }
      ],
      "source": [
        "df_info=df.info()"
      ]
    },
    {
      "cell_type": "code",
      "execution_count": 27,
      "metadata": {
        "colab": {
          "base_uri": "https://localhost:8080/"
        },
        "id": "Gx8wAPAft2xg",
        "outputId": "a22dd6d4-f8dc-4af6-8264-cbe35a838d72"
      },
      "outputs": [
        {
          "data": {
            "text/plain": [
              "order_id                  0\n",
              "customer_id               0\n",
              "order_date                0\n",
              "promised_delivery_time    0\n",
              "actual_delivery_time      0\n",
              "delivery_status           0\n",
              "order_total               0\n",
              "payment_method            0\n",
              "delivery_partner_id       0\n",
              "store_id                  0\n",
              "dtype: int64"
            ]
          },
          "metadata": {},
          "output_type": "display_data"
        }
      ],
      "source": [
        "display(df.isnull().sum())"
      ]
    },
    {
      "cell_type": "code",
      "execution_count": 26,
      "metadata": {
        "colab": {
          "base_uri": "https://localhost:8080/"
        },
        "id": "xN9wVWovt31n",
        "outputId": "71444e70-48d9-4406-d4ce-70f693b168c4"
      },
      "outputs": [
        {
          "data": {
            "text/html": [
              "<div>\n",
              "<style scoped>\n",
              "    .dataframe tbody tr th:only-of-type {\n",
              "        vertical-align: middle;\n",
              "    }\n",
              "\n",
              "    .dataframe tbody tr th {\n",
              "        vertical-align: top;\n",
              "    }\n",
              "\n",
              "    .dataframe thead th {\n",
              "        text-align: right;\n",
              "    }\n",
              "</style>\n",
              "<table border=\"1\" class=\"dataframe\">\n",
              "  <thead>\n",
              "    <tr style=\"text-align: right;\">\n",
              "      <th></th>\n",
              "      <th>order_id</th>\n",
              "      <th>customer_id</th>\n",
              "      <th>order_total</th>\n",
              "      <th>delivery_partner_id</th>\n",
              "      <th>store_id</th>\n",
              "    </tr>\n",
              "  </thead>\n",
              "  <tbody>\n",
              "    <tr>\n",
              "      <th>count</th>\n",
              "      <td>5.000000e+03</td>\n",
              "      <td>5.000000e+03</td>\n",
              "      <td>5000.00000</td>\n",
              "      <td>5000.000000</td>\n",
              "      <td>5000.000000</td>\n",
              "    </tr>\n",
              "    <tr>\n",
              "      <th>mean</th>\n",
              "      <td>5.029129e+09</td>\n",
              "      <td>5.009685e+07</td>\n",
              "      <td>2201.86170</td>\n",
              "      <td>50050.318200</td>\n",
              "      <td>4999.689000</td>\n",
              "    </tr>\n",
              "    <tr>\n",
              "      <th>std</th>\n",
              "      <td>2.863533e+09</td>\n",
              "      <td>2.919082e+07</td>\n",
              "      <td>1303.02438</td>\n",
              "      <td>28802.276922</td>\n",
              "      <td>2886.089242</td>\n",
              "    </tr>\n",
              "    <tr>\n",
              "      <th>min</th>\n",
              "      <td>6.046500e+04</td>\n",
              "      <td>3.181300e+04</td>\n",
              "      <td>13.25000</td>\n",
              "      <td>43.000000</td>\n",
              "      <td>1.000000</td>\n",
              "    </tr>\n",
              "    <tr>\n",
              "      <th>25%</th>\n",
              "      <td>2.531421e+09</td>\n",
              "      <td>2.404314e+07</td>\n",
              "      <td>1086.21500</td>\n",
              "      <td>24928.500000</td>\n",
              "      <td>2509.250000</td>\n",
              "    </tr>\n",
              "    <tr>\n",
              "      <th>50%</th>\n",
              "      <td>5.074378e+09</td>\n",
              "      <td>4.997808e+07</td>\n",
              "      <td>2100.69000</td>\n",
              "      <td>50262.500000</td>\n",
              "      <td>4987.000000</td>\n",
              "    </tr>\n",
              "    <tr>\n",
              "      <th>75%</th>\n",
              "      <td>7.488579e+09</td>\n",
              "      <td>7.621215e+07</td>\n",
              "      <td>3156.88250</td>\n",
              "      <td>74478.250000</td>\n",
              "      <td>7500.750000</td>\n",
              "    </tr>\n",
              "    <tr>\n",
              "      <th>max</th>\n",
              "      <td>9.998298e+09</td>\n",
              "      <td>9.989390e+07</td>\n",
              "      <td>6721.46000</td>\n",
              "      <td>99968.000000</td>\n",
              "      <td>9995.000000</td>\n",
              "    </tr>\n",
              "  </tbody>\n",
              "</table>\n",
              "</div>"
            ],
            "text/plain": [
              "           order_id   customer_id  order_total  delivery_partner_id  \\\n",
              "count  5.000000e+03  5.000000e+03   5000.00000          5000.000000   \n",
              "mean   5.029129e+09  5.009685e+07   2201.86170         50050.318200   \n",
              "std    2.863533e+09  2.919082e+07   1303.02438         28802.276922   \n",
              "min    6.046500e+04  3.181300e+04     13.25000            43.000000   \n",
              "25%    2.531421e+09  2.404314e+07   1086.21500         24928.500000   \n",
              "50%    5.074378e+09  4.997808e+07   2100.69000         50262.500000   \n",
              "75%    7.488579e+09  7.621215e+07   3156.88250         74478.250000   \n",
              "max    9.998298e+09  9.989390e+07   6721.46000         99968.000000   \n",
              "\n",
              "          store_id  \n",
              "count  5000.000000  \n",
              "mean   4999.689000  \n",
              "std    2886.089242  \n",
              "min       1.000000  \n",
              "25%    2509.250000  \n",
              "50%    4987.000000  \n",
              "75%    7500.750000  \n",
              "max    9995.000000  "
            ]
          },
          "metadata": {},
          "output_type": "display_data"
        }
      ],
      "source": [
        "#descriptive stats of the dataset\n",
        "descriptive_stats=df.describe()\n",
        "display(descriptive_stats)"
      ]
    },
    {
      "cell_type": "code",
      "execution_count": null,
      "metadata": {
        "colab": {
          "base_uri": "https://localhost:8080/",
          "height": 397
        },
        "id": "WiqpWM1MuDVg",
        "outputId": "30ee3661-644c-437c-8627-fddfb147b4f3"
      },
      "outputs": [
        {
          "data": {
            "text/html": [
              "<div>\n",
              "<style scoped>\n",
              "    .dataframe tbody tr th:only-of-type {\n",
              "        vertical-align: middle;\n",
              "    }\n",
              "\n",
              "    .dataframe tbody tr th {\n",
              "        vertical-align: top;\n",
              "    }\n",
              "\n",
              "    .dataframe thead th {\n",
              "        text-align: right;\n",
              "    }\n",
              "</style>\n",
              "<table border=\"1\" class=\"dataframe\">\n",
              "  <thead>\n",
              "    <tr style=\"text-align: right;\">\n",
              "      <th></th>\n",
              "      <th>0</th>\n",
              "    </tr>\n",
              "  </thead>\n",
              "  <tbody>\n",
              "    <tr>\n",
              "      <th>order_id</th>\n",
              "      <td>int64</td>\n",
              "    </tr>\n",
              "    <tr>\n",
              "      <th>customer_id</th>\n",
              "      <td>int64</td>\n",
              "    </tr>\n",
              "    <tr>\n",
              "      <th>order_date</th>\n",
              "      <td>object</td>\n",
              "    </tr>\n",
              "    <tr>\n",
              "      <th>promised_delivery_time</th>\n",
              "      <td>object</td>\n",
              "    </tr>\n",
              "    <tr>\n",
              "      <th>actual_delivery_time</th>\n",
              "      <td>object</td>\n",
              "    </tr>\n",
              "    <tr>\n",
              "      <th>delivery_status</th>\n",
              "      <td>object</td>\n",
              "    </tr>\n",
              "    <tr>\n",
              "      <th>order_total</th>\n",
              "      <td>float64</td>\n",
              "    </tr>\n",
              "    <tr>\n",
              "      <th>payment_method</th>\n",
              "      <td>object</td>\n",
              "    </tr>\n",
              "    <tr>\n",
              "      <th>delivery_partner_id</th>\n",
              "      <td>int64</td>\n",
              "    </tr>\n",
              "    <tr>\n",
              "      <th>store_id</th>\n",
              "      <td>int64</td>\n",
              "    </tr>\n",
              "  </tbody>\n",
              "</table>\n",
              "</div><br><label><b>dtype:</b> object</label>"
            ],
            "text/plain": [
              "order_id                    int64\n",
              "customer_id                 int64\n",
              "order_date                 object\n",
              "promised_delivery_time     object\n",
              "actual_delivery_time       object\n",
              "delivery_status            object\n",
              "order_total               float64\n",
              "payment_method             object\n",
              "delivery_partner_id         int64\n",
              "store_id                    int64\n",
              "dtype: object"
            ]
          },
          "execution_count": 6,
          "metadata": {},
          "output_type": "execute_result"
        }
      ],
      "source": [
        "df.dtypes"
      ]
    },
    {
      "cell_type": "code",
      "execution_count": 31,
      "metadata": {
        "colab": {
          "base_uri": "https://localhost:8080/"
        },
        "id": "v0s5pe5JVlLo",
        "outputId": "b1f99bbe-a498-45ba-82bd-0ce1afed6d26"
      },
      "outputs": [
        {
          "data": {
            "text/plain": [
              "'Shape of DataFrame:'"
            ]
          },
          "metadata": {},
          "output_type": "display_data"
        },
        {
          "data": {
            "text/plain": [
              "(5000, 10)"
            ]
          },
          "metadata": {},
          "output_type": "display_data"
        },
        {
          "data": {
            "text/plain": [
              "'Data Types:'"
            ]
          },
          "metadata": {},
          "output_type": "display_data"
        },
        {
          "data": {
            "text/plain": [
              "order_id                    int64\n",
              "customer_id                 int64\n",
              "order_date                 object\n",
              "promised_delivery_time     object\n",
              "actual_delivery_time       object\n",
              "delivery_status            object\n",
              "order_total               float64\n",
              "payment_method             object\n",
              "delivery_partner_id         int64\n",
              "store_id                    int64\n",
              "dtype: object"
            ]
          },
          "metadata": {},
          "output_type": "display_data"
        },
        {
          "data": {
            "text/plain": [
              "'First 5 Rows:'"
            ]
          },
          "metadata": {},
          "output_type": "display_data"
        },
        {
          "data": {
            "text/html": [
              "<div>\n",
              "<style scoped>\n",
              "    .dataframe tbody tr th:only-of-type {\n",
              "        vertical-align: middle;\n",
              "    }\n",
              "\n",
              "    .dataframe tbody tr th {\n",
              "        vertical-align: top;\n",
              "    }\n",
              "\n",
              "    .dataframe thead th {\n",
              "        text-align: right;\n",
              "    }\n",
              "</style>\n",
              "<table border=\"1\" class=\"dataframe\">\n",
              "  <thead>\n",
              "    <tr style=\"text-align: right;\">\n",
              "      <th></th>\n",
              "      <th>order_id</th>\n",
              "      <th>customer_id</th>\n",
              "      <th>order_date</th>\n",
              "      <th>promised_delivery_time</th>\n",
              "      <th>actual_delivery_time</th>\n",
              "      <th>delivery_status</th>\n",
              "      <th>order_total</th>\n",
              "      <th>payment_method</th>\n",
              "      <th>delivery_partner_id</th>\n",
              "      <th>store_id</th>\n",
              "    </tr>\n",
              "  </thead>\n",
              "  <tbody>\n",
              "    <tr>\n",
              "      <th>0</th>\n",
              "      <td>1961864118</td>\n",
              "      <td>30065862</td>\n",
              "      <td>2024-07-17 08:34:01</td>\n",
              "      <td>2024-07-17 08:52:01</td>\n",
              "      <td>2024-07-17 08:47:01</td>\n",
              "      <td>On Time</td>\n",
              "      <td>3197.07</td>\n",
              "      <td>Cash</td>\n",
              "      <td>63230</td>\n",
              "      <td>4771</td>\n",
              "    </tr>\n",
              "    <tr>\n",
              "      <th>1</th>\n",
              "      <td>1549769649</td>\n",
              "      <td>9573071</td>\n",
              "      <td>2024-05-28 13:14:29</td>\n",
              "      <td>2024-05-28 13:25:29</td>\n",
              "      <td>2024-05-28 13:27:29</td>\n",
              "      <td>On Time</td>\n",
              "      <td>976.55</td>\n",
              "      <td>Cash</td>\n",
              "      <td>14983</td>\n",
              "      <td>7534</td>\n",
              "    </tr>\n",
              "    <tr>\n",
              "      <th>2</th>\n",
              "      <td>9185164487</td>\n",
              "      <td>45477575</td>\n",
              "      <td>2024-09-23 13:07:12</td>\n",
              "      <td>2024-09-23 13:25:12</td>\n",
              "      <td>2024-09-23 13:29:12</td>\n",
              "      <td>On Time</td>\n",
              "      <td>839.05</td>\n",
              "      <td>UPI</td>\n",
              "      <td>39859</td>\n",
              "      <td>9886</td>\n",
              "    </tr>\n",
              "    <tr>\n",
              "      <th>3</th>\n",
              "      <td>9644738826</td>\n",
              "      <td>88067569</td>\n",
              "      <td>2023-11-24 16:16:56</td>\n",
              "      <td>2023-11-24 16:34:56</td>\n",
              "      <td>2023-11-24 16:33:56</td>\n",
              "      <td>On Time</td>\n",
              "      <td>440.23</td>\n",
              "      <td>Card</td>\n",
              "      <td>61497</td>\n",
              "      <td>7917</td>\n",
              "    </tr>\n",
              "    <tr>\n",
              "      <th>4</th>\n",
              "      <td>5427684290</td>\n",
              "      <td>83298567</td>\n",
              "      <td>2023-11-20 05:00:39</td>\n",
              "      <td>2023-11-20 05:17:39</td>\n",
              "      <td>2023-11-20 05:18:39</td>\n",
              "      <td>On Time</td>\n",
              "      <td>2526.68</td>\n",
              "      <td>Cash</td>\n",
              "      <td>84315</td>\n",
              "      <td>2741</td>\n",
              "    </tr>\n",
              "  </tbody>\n",
              "</table>\n",
              "</div>"
            ],
            "text/plain": [
              "     order_id  customer_id           order_date promised_delivery_time  \\\n",
              "0  1961864118     30065862  2024-07-17 08:34:01    2024-07-17 08:52:01   \n",
              "1  1549769649      9573071  2024-05-28 13:14:29    2024-05-28 13:25:29   \n",
              "2  9185164487     45477575  2024-09-23 13:07:12    2024-09-23 13:25:12   \n",
              "3  9644738826     88067569  2023-11-24 16:16:56    2023-11-24 16:34:56   \n",
              "4  5427684290     83298567  2023-11-20 05:00:39    2023-11-20 05:17:39   \n",
              "\n",
              "  actual_delivery_time delivery_status  order_total payment_method  \\\n",
              "0  2024-07-17 08:47:01         On Time      3197.07           Cash   \n",
              "1  2024-05-28 13:27:29         On Time       976.55           Cash   \n",
              "2  2024-09-23 13:29:12         On Time       839.05            UPI   \n",
              "3  2023-11-24 16:33:56         On Time       440.23           Card   \n",
              "4  2023-11-20 05:18:39         On Time      2526.68           Cash   \n",
              "\n",
              "   delivery_partner_id  store_id  \n",
              "0                63230      4771  \n",
              "1                14983      7534  \n",
              "2                39859      9886  \n",
              "3                61497      7917  \n",
              "4                84315      2741  "
            ]
          },
          "metadata": {},
          "output_type": "display_data"
        }
      ],
      "source": [
        "#shape\n",
        "display(\"Shape of DataFrame:\", df.shape)\n",
        "display(\"Data Types:\", df.dtypes)\n",
        "display(\"First 5 Rows:\", df.head())"
      ]
    },
    {
      "cell_type": "code",
      "execution_count": null,
      "metadata": {
        "colab": {
          "base_uri": "https://localhost:8080/"
        },
        "id": "oyEHhkNnVlJD",
        "outputId": "05bd1a6d-00fb-4d66-e46c-355f18d24c57"
      },
      "outputs": [
        {
          "name": "stdout",
          "output_type": "stream",
          "text": [
            "Missing Values:\n",
            "order_id                  0\n",
            "customer_id               0\n",
            "order_date                0\n",
            "promised_delivery_time    0\n",
            "actual_delivery_time      0\n",
            "delivery_status           0\n",
            "order_total               0\n",
            "payment_method            0\n",
            "delivery_partner_id       0\n",
            "store_id                  0\n",
            "dtype: int64\n"
          ]
        },
        {
          "data": {
            "text/plain": [
              "order_id                  0\n",
              "customer_id               0\n",
              "order_date                0\n",
              "promised_delivery_time    0\n",
              "actual_delivery_time      0\n",
              "delivery_status           0\n",
              "order_total               0\n",
              "payment_method            0\n",
              "delivery_partner_id       0\n",
              "store_id                  0\n",
              "dtype: int64"
            ]
          },
          "metadata": {},
          "output_type": "display_data"
        }
      ],
      "source": [
        "#missing values\n",
        "print('Missing Values:', df.isnull().sum(), sep=\"\\n\")"
      ]
    },
    {
      "cell_type": "code",
      "execution_count": 38,
      "metadata": {
        "colab": {
          "base_uri": "https://localhost:8080/"
        },
        "id": "P-2HHsbpVlGl",
        "outputId": "d2fadb98-0591-485c-d715-c946f14a2e75"
      },
      "outputs": [
        {
          "name": "stdout",
          "output_type": "stream",
          "text": [
            "Number of Duplicated Rows: 0\n"
          ]
        }
      ],
      "source": [
        "# duplicates\n",
        "print(\"Number of Duplicated Rows:\", df.duplicated().sum())"
      ]
    },
    {
      "cell_type": "code",
      "execution_count": 41,
      "metadata": {
        "colab": {
          "base_uri": "https://localhost:8080/"
        },
        "id": "w1p9YaFFVlEO",
        "outputId": "97ad4ddb-d073-466d-fd39-c45faa90d6fd"
      },
      "outputs": [
        {
          "name": "stdout",
          "output_type": "stream",
          "text": [
            "Descriptive Statistics:\n",
            "\n"
          ]
        },
        {
          "data": {
            "text/html": [
              "<div>\n",
              "<style scoped>\n",
              "    .dataframe tbody tr th:only-of-type {\n",
              "        vertical-align: middle;\n",
              "    }\n",
              "\n",
              "    .dataframe tbody tr th {\n",
              "        vertical-align: top;\n",
              "    }\n",
              "\n",
              "    .dataframe thead th {\n",
              "        text-align: right;\n",
              "    }\n",
              "</style>\n",
              "<table border=\"1\" class=\"dataframe\">\n",
              "  <thead>\n",
              "    <tr style=\"text-align: right;\">\n",
              "      <th></th>\n",
              "      <th>order_id</th>\n",
              "      <th>customer_id</th>\n",
              "      <th>order_date</th>\n",
              "      <th>promised_delivery_time</th>\n",
              "      <th>actual_delivery_time</th>\n",
              "      <th>delivery_status</th>\n",
              "      <th>order_total</th>\n",
              "      <th>payment_method</th>\n",
              "      <th>delivery_partner_id</th>\n",
              "      <th>store_id</th>\n",
              "    </tr>\n",
              "  </thead>\n",
              "  <tbody>\n",
              "    <tr>\n",
              "      <th>count</th>\n",
              "      <td>5.000000e+03</td>\n",
              "      <td>5.000000e+03</td>\n",
              "      <td>5000</td>\n",
              "      <td>5000</td>\n",
              "      <td>5000</td>\n",
              "      <td>5000</td>\n",
              "      <td>5000.00000</td>\n",
              "      <td>5000</td>\n",
              "      <td>5000.000000</td>\n",
              "      <td>5000.000000</td>\n",
              "    </tr>\n",
              "    <tr>\n",
              "      <th>unique</th>\n",
              "      <td>NaN</td>\n",
              "      <td>NaN</td>\n",
              "      <td>5000</td>\n",
              "      <td>4999</td>\n",
              "      <td>5000</td>\n",
              "      <td>3</td>\n",
              "      <td>NaN</td>\n",
              "      <td>4</td>\n",
              "      <td>NaN</td>\n",
              "      <td>NaN</td>\n",
              "    </tr>\n",
              "    <tr>\n",
              "      <th>top</th>\n",
              "      <td>NaN</td>\n",
              "      <td>NaN</td>\n",
              "      <td>2024-07-17 08:34:01</td>\n",
              "      <td>2024-10-13 14:06:50</td>\n",
              "      <td>2024-07-17 08:47:01</td>\n",
              "      <td>On Time</td>\n",
              "      <td>NaN</td>\n",
              "      <td>Card</td>\n",
              "      <td>NaN</td>\n",
              "      <td>NaN</td>\n",
              "    </tr>\n",
              "    <tr>\n",
              "      <th>freq</th>\n",
              "      <td>NaN</td>\n",
              "      <td>NaN</td>\n",
              "      <td>1</td>\n",
              "      <td>2</td>\n",
              "      <td>1</td>\n",
              "      <td>3470</td>\n",
              "      <td>NaN</td>\n",
              "      <td>1285</td>\n",
              "      <td>NaN</td>\n",
              "      <td>NaN</td>\n",
              "    </tr>\n",
              "    <tr>\n",
              "      <th>mean</th>\n",
              "      <td>5.029129e+09</td>\n",
              "      <td>5.009685e+07</td>\n",
              "      <td>NaN</td>\n",
              "      <td>NaN</td>\n",
              "      <td>NaN</td>\n",
              "      <td>NaN</td>\n",
              "      <td>2201.86170</td>\n",
              "      <td>NaN</td>\n",
              "      <td>50050.318200</td>\n",
              "      <td>4999.689000</td>\n",
              "    </tr>\n",
              "    <tr>\n",
              "      <th>std</th>\n",
              "      <td>2.863533e+09</td>\n",
              "      <td>2.919082e+07</td>\n",
              "      <td>NaN</td>\n",
              "      <td>NaN</td>\n",
              "      <td>NaN</td>\n",
              "      <td>NaN</td>\n",
              "      <td>1303.02438</td>\n",
              "      <td>NaN</td>\n",
              "      <td>28802.276922</td>\n",
              "      <td>2886.089242</td>\n",
              "    </tr>\n",
              "    <tr>\n",
              "      <th>min</th>\n",
              "      <td>6.046500e+04</td>\n",
              "      <td>3.181300e+04</td>\n",
              "      <td>NaN</td>\n",
              "      <td>NaN</td>\n",
              "      <td>NaN</td>\n",
              "      <td>NaN</td>\n",
              "      <td>13.25000</td>\n",
              "      <td>NaN</td>\n",
              "      <td>43.000000</td>\n",
              "      <td>1.000000</td>\n",
              "    </tr>\n",
              "    <tr>\n",
              "      <th>25%</th>\n",
              "      <td>2.531421e+09</td>\n",
              "      <td>2.404314e+07</td>\n",
              "      <td>NaN</td>\n",
              "      <td>NaN</td>\n",
              "      <td>NaN</td>\n",
              "      <td>NaN</td>\n",
              "      <td>1086.21500</td>\n",
              "      <td>NaN</td>\n",
              "      <td>24928.500000</td>\n",
              "      <td>2509.250000</td>\n",
              "    </tr>\n",
              "    <tr>\n",
              "      <th>50%</th>\n",
              "      <td>5.074378e+09</td>\n",
              "      <td>4.997808e+07</td>\n",
              "      <td>NaN</td>\n",
              "      <td>NaN</td>\n",
              "      <td>NaN</td>\n",
              "      <td>NaN</td>\n",
              "      <td>2100.69000</td>\n",
              "      <td>NaN</td>\n",
              "      <td>50262.500000</td>\n",
              "      <td>4987.000000</td>\n",
              "    </tr>\n",
              "    <tr>\n",
              "      <th>75%</th>\n",
              "      <td>7.488579e+09</td>\n",
              "      <td>7.621215e+07</td>\n",
              "      <td>NaN</td>\n",
              "      <td>NaN</td>\n",
              "      <td>NaN</td>\n",
              "      <td>NaN</td>\n",
              "      <td>3156.88250</td>\n",
              "      <td>NaN</td>\n",
              "      <td>74478.250000</td>\n",
              "      <td>7500.750000</td>\n",
              "    </tr>\n",
              "    <tr>\n",
              "      <th>max</th>\n",
              "      <td>9.998298e+09</td>\n",
              "      <td>9.989390e+07</td>\n",
              "      <td>NaN</td>\n",
              "      <td>NaN</td>\n",
              "      <td>NaN</td>\n",
              "      <td>NaN</td>\n",
              "      <td>6721.46000</td>\n",
              "      <td>NaN</td>\n",
              "      <td>99968.000000</td>\n",
              "      <td>9995.000000</td>\n",
              "    </tr>\n",
              "  </tbody>\n",
              "</table>\n",
              "</div>"
            ],
            "text/plain": [
              "            order_id   customer_id           order_date  \\\n",
              "count   5.000000e+03  5.000000e+03                 5000   \n",
              "unique           NaN           NaN                 5000   \n",
              "top              NaN           NaN  2024-07-17 08:34:01   \n",
              "freq             NaN           NaN                    1   \n",
              "mean    5.029129e+09  5.009685e+07                  NaN   \n",
              "std     2.863533e+09  2.919082e+07                  NaN   \n",
              "min     6.046500e+04  3.181300e+04                  NaN   \n",
              "25%     2.531421e+09  2.404314e+07                  NaN   \n",
              "50%     5.074378e+09  4.997808e+07                  NaN   \n",
              "75%     7.488579e+09  7.621215e+07                  NaN   \n",
              "max     9.998298e+09  9.989390e+07                  NaN   \n",
              "\n",
              "       promised_delivery_time actual_delivery_time delivery_status  \\\n",
              "count                    5000                 5000            5000   \n",
              "unique                   4999                 5000               3   \n",
              "top       2024-10-13 14:06:50  2024-07-17 08:47:01         On Time   \n",
              "freq                        2                    1            3470   \n",
              "mean                      NaN                  NaN             NaN   \n",
              "std                       NaN                  NaN             NaN   \n",
              "min                       NaN                  NaN             NaN   \n",
              "25%                       NaN                  NaN             NaN   \n",
              "50%                       NaN                  NaN             NaN   \n",
              "75%                       NaN                  NaN             NaN   \n",
              "max                       NaN                  NaN             NaN   \n",
              "\n",
              "        order_total payment_method  delivery_partner_id     store_id  \n",
              "count    5000.00000           5000          5000.000000  5000.000000  \n",
              "unique          NaN              4                  NaN          NaN  \n",
              "top             NaN           Card                  NaN          NaN  \n",
              "freq            NaN           1285                  NaN          NaN  \n",
              "mean     2201.86170            NaN         50050.318200  4999.689000  \n",
              "std      1303.02438            NaN         28802.276922  2886.089242  \n",
              "min        13.25000            NaN            43.000000     1.000000  \n",
              "25%      1086.21500            NaN         24928.500000  2509.250000  \n",
              "50%      2100.69000            NaN         50262.500000  4987.000000  \n",
              "75%      3156.88250            NaN         74478.250000  7500.750000  \n",
              "max      6721.46000            NaN         99968.000000  9995.000000  "
            ]
          },
          "metadata": {},
          "output_type": "display_data"
        }
      ],
      "source": [
        "#checking anomalies\n",
        "print(\"Descriptive Statistics:\\n\")\n",
        "\n",
        "display(df.describe(include='all'))"
      ]
    },
    {
      "cell_type": "code",
      "execution_count": 44,
      "metadata": {
        "colab": {
          "base_uri": "https://localhost:8080/"
        },
        "id": "P1TO7KiSVlB3",
        "outputId": "b1226ff7-310e-4f7b-fd33-486dae9c1f69"
      },
      "outputs": [
        {
          "name": "stdout",
          "output_type": "stream",
          "text": [
            "Categorical Column Summary:\n",
            "\n"
          ]
        },
        {
          "data": {
            "text/html": [
              "<div>\n",
              "<style scoped>\n",
              "    .dataframe tbody tr th:only-of-type {\n",
              "        vertical-align: middle;\n",
              "    }\n",
              "\n",
              "    .dataframe tbody tr th {\n",
              "        vertical-align: top;\n",
              "    }\n",
              "\n",
              "    .dataframe thead th {\n",
              "        text-align: right;\n",
              "    }\n",
              "</style>\n",
              "<table border=\"1\" class=\"dataframe\">\n",
              "  <thead>\n",
              "    <tr style=\"text-align: right;\">\n",
              "      <th></th>\n",
              "      <th>order_date</th>\n",
              "      <th>promised_delivery_time</th>\n",
              "      <th>actual_delivery_time</th>\n",
              "      <th>delivery_status</th>\n",
              "      <th>payment_method</th>\n",
              "    </tr>\n",
              "  </thead>\n",
              "  <tbody>\n",
              "    <tr>\n",
              "      <th>count</th>\n",
              "      <td>5000</td>\n",
              "      <td>5000</td>\n",
              "      <td>5000</td>\n",
              "      <td>5000</td>\n",
              "      <td>5000</td>\n",
              "    </tr>\n",
              "    <tr>\n",
              "      <th>unique</th>\n",
              "      <td>5000</td>\n",
              "      <td>4999</td>\n",
              "      <td>5000</td>\n",
              "      <td>3</td>\n",
              "      <td>4</td>\n",
              "    </tr>\n",
              "    <tr>\n",
              "      <th>top</th>\n",
              "      <td>2024-07-17 08:34:01</td>\n",
              "      <td>2024-10-13 14:06:50</td>\n",
              "      <td>2024-07-17 08:47:01</td>\n",
              "      <td>On Time</td>\n",
              "      <td>Card</td>\n",
              "    </tr>\n",
              "    <tr>\n",
              "      <th>freq</th>\n",
              "      <td>1</td>\n",
              "      <td>2</td>\n",
              "      <td>1</td>\n",
              "      <td>3470</td>\n",
              "      <td>1285</td>\n",
              "    </tr>\n",
              "  </tbody>\n",
              "</table>\n",
              "</div>"
            ],
            "text/plain": [
              "                 order_date promised_delivery_time actual_delivery_time  \\\n",
              "count                  5000                   5000                 5000   \n",
              "unique                 5000                   4999                 5000   \n",
              "top     2024-07-17 08:34:01    2024-10-13 14:06:50  2024-07-17 08:47:01   \n",
              "freq                      1                      2                    1   \n",
              "\n",
              "       delivery_status payment_method  \n",
              "count             5000           5000  \n",
              "unique               3              4  \n",
              "top            On Time           Card  \n",
              "freq              3470           1285  "
            ]
          },
          "metadata": {},
          "output_type": "display_data"
        }
      ],
      "source": [
        "print(\"Categorical Column Summary:\\n\")\n",
        "\n",
        "display(df.describe(include=['object']))"
      ]
    },
    {
      "cell_type": "code",
      "execution_count": null,
      "metadata": {
        "colab": {
          "base_uri": "https://localhost:8080/"
        },
        "id": "34wOqIOEVk_D",
        "outputId": "f5e4a541-9c4d-451f-90c1-a65577632978"
      },
      "outputs": [
        {
          "name": "stdout",
          "output_type": "stream",
          "text": [
            "\n",
            " Rows with Invalid (≤0) Order Total:\n",
            " Empty DataFrame\n",
            "Columns: [order_id, customer_id, order_date, promised_delivery_time, actual_delivery_time, delivery_status, order_total, payment_method, delivery_partner_id, store_id]\n",
            "Index: []\n"
          ]
        }
      ],
      "source": [
        "if 'order_total' in df.columns:\n",
        "    invalid_order_total = df[df['order_total'] <= 0]\n",
        "    print(\"\\n Rows with Invalid (≤0) Order Total:\\n\", invalid_order_total)"
      ]
    },
    {
      "cell_type": "code",
      "execution_count": null,
      "metadata": {
        "colab": {
          "base_uri": "https://localhost:8080/"
        },
        "id": "1mo-u-6-Vk8T",
        "outputId": "0a8c8a51-372d-4317-af4f-682363519174"
      },
      "outputs": [
        {
          "name": "stderr",
          "output_type": "stream",
          "text": [
            "/tmp/ipython-input-2044985845.py:4: UserWarning: Could not infer format, so each element will be parsed individually, falling back to `dateutil`. To ensure parsing is consistent and as-expected, please specify a format.\n",
            "  df['promised_delivery_time'] = pd.to_datetime(df['promised_delivery_time'], errors='coerce')\n",
            "/tmp/ipython-input-2044985845.py:5: UserWarning: Could not infer format, so each element will be parsed individually, falling back to `dateutil`. To ensure parsing is consistent and as-expected, please specify a format.\n",
            "  df['actual_delivery_time'] = pd.to_datetime(df['actual_delivery_time'], errors='coerce')\n"
          ]
        },
        {
          "name": "stdout",
          "output_type": "stream",
          "text": [
            "\n",
            "Rows with Invalid Delivery Times (Before Order Date):\n",
            "         order_id  customer_id      order_date promised_delivery_time  \\\n",
            "1281  2148242015     39093069  30-04-23 23:48    2023-01-05 00:04:00   \n",
            "1563  7821942520     84468124  12-02-24 23:57    2024-02-13 00:12:00   \n",
            "2933  3368317718     70867736  31-05-24 23:59    2024-01-06 00:17:00   \n",
            "\n",
            "     actual_delivery_time        delivery_status  order_total payment_method  \\\n",
            "1281  2023-01-05 00:33:00  Significantly Delayed      3239.66            UPI   \n",
            "1563  2024-02-13 00:13:00                On Time      2732.91         Wallet   \n",
            "2933  2024-01-06 00:12:00                On Time       914.88            UPI   \n",
            "\n",
            "      delivery_partner_id  store_id  \n",
            "1281                13676      9904  \n",
            "1563                11136      5805  \n",
            "2933                96055       522  \n"
          ]
        }
      ],
      "source": [
        "#inconsistent date. need to be rectified before proceeding. need to be in the same format in all columns.\n",
        "#invalid rows can be removed\n",
        "if {'promised_delivery_time', 'actual_delivery_time'}.issubset(df.columns):\n",
        "    df['promised_delivery_time'] = pd.to_datetime(df['promised_delivery_time'], errors='coerce')\n",
        "    df['actual_delivery_time'] = pd.to_datetime(df['actual_delivery_time'], errors='coerce')\n",
        "    invalid_delivery = df[df['actual_delivery_time'] < df['order_date']]\n",
        "    print(\"\\nRows with Invalid Delivery Times (Before Order Date):\\n\", invalid_delivery)\n"
      ]
    },
    {
      "cell_type": "code",
      "execution_count": 43,
      "metadata": {
        "colab": {
          "base_uri": "https://localhost:8080/"
        },
        "id": "ASmXKIftVk5G",
        "outputId": "99fd582d-1ef0-4d1b-91d2-e055f2b89c81"
      },
      "outputs": [
        {
          "name": "stdout",
          "output_type": "stream",
          "text": [
            "Unique Value Counts per Column:\n",
            "order_id                  5000\n",
            "customer_id               2172\n",
            "order_date                5000\n",
            "promised_delivery_time    4999\n",
            "actual_delivery_time      5000\n",
            "delivery_status              3\n",
            "order_total               4550\n",
            "payment_method               4\n",
            "delivery_partner_id       5000\n",
            "store_id                  5000\n",
            "dtype: int64\n"
          ]
        }
      ],
      "source": [
        "#unique countsin each column\n",
        "print(\"Unique Value Counts per Column:\", df.nunique(), sep=\"\\n\")"
      ]
    }
  ],
  "metadata": {
    "colab": {
      "include_colab_link": true,
      "provenance": []
    },
    "kernelspec": {
      "display_name": "Python 3",
      "name": "python3"
    },
    "language_info": {
      "name": "python"
    }
  },
  "nbformat": 4,
  "nbformat_minor": 0
}
