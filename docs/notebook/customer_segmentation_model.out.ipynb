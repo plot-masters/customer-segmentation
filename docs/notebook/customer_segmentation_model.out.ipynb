{
 "cells": [
  {
   "cell_type": "markdown",
   "metadata": {},
   "source": [
    "#"
   ],
   "id": "997ebe8d-9f66-4f7b-b5e7-7f10a26f2579"
  },
  {
   "cell_type": "markdown",
   "metadata": {},
   "source": [
    "Apex Project: Team Plotmasters\n",
    "\n",
    "1.  Utkarsh Tripathi (2025EM1100146)\n",
    "2.  Juwaria Qadri (2025EM1100132)\n",
    "3.  Mohammed Omar (2025EM1100235)\n",
    "4.  Merin Ann Cherian (2025EM1100211)"
   ],
   "id": "cell-0"
  },
  {
   "cell_type": "code",
   "execution_count": 4,
   "metadata": {},
   "outputs": [],
   "source": [
    "import pandas as pd\n",
    "\n",
    "df=pd.read_csv('../resources/data/blinkit_orders.csv')"
   ],
   "id": "cell-1"
  },
  {
   "cell_type": "code",
   "execution_count": 6,
   "metadata": {
    "tags": [
     "data_dictionary"
    ]
   },
   "outputs": [
    {
     "output_type": "display_data",
     "metadata": {},
     "data": {
      "text/html": [
       "\n",
       "</div>"
      ]
     }
    }
   ],
   "source": [
    "# Data Dictionary\n",
    "\n",
    "df_dictionary = pd.read_csv('../resources/Data_Dictionary.csv')\n",
    "display(df_dictionary)"
   ],
   "id": "cell-2"
  },
  {
   "cell_type": "code",
   "execution_count": null,
   "metadata": {
    "outputId": "42426013-f126-484b-90d1-7d1f813cdb5b",
    "quarto-private-1": {
     "key": "colab",
     "value": {
      "base_uri": "https://localhost:8080/"
     }
    }
   },
   "outputs": [
    {
     "output_type": "stream",
     "name": "stdout",
     "text": [
      "<class 'pandas.core.frame.DataFrame'>\n",
      "RangeIndex: 5000 entries, 0 to 4999\n",
      "Data columns (total 10 columns):\n",
      " #   Column                  Non-Null Count  Dtype  \n",
      "---  ------                  --------------  -----  \n",
      " 0   order_id                5000 non-null   int64  \n",
      " 1   customer_id             5000 non-null   int64  \n",
      " 2   order_date              5000 non-null   object \n",
      " 3   promised_delivery_time  5000 non-null   object \n",
      " 4   actual_delivery_time    5000 non-null   object \n",
      " 5   delivery_status         5000 non-null   object \n",
      " 6   order_total             5000 non-null   float64\n",
      " 7   payment_method          5000 non-null   object \n",
      " 8   delivery_partner_id     5000 non-null   int64  \n",
      " 9   store_id                5000 non-null   int64  \n",
      "dtypes: float64(1), int64(4), object(5)\n",
      "memory usage: 390.8+ KB"
     ]
    }
   ],
   "source": [
    "head_row=df.head(10)\n",
    "df_info=df.info()"
   ],
   "id": "cell-3"
  },
  {
   "cell_type": "markdown",
   "metadata": {},
   "source": [],
   "id": "cell-4"
  },
  {
   "cell_type": "code",
   "execution_count": null,
   "metadata": {
    "outputId": "6fd8b385-765c-4f72-e033-27489bc50d77",
    "quarto-private-1": {
     "key": "colab",
     "value": {
      "base_uri": "https://localhost:8080/"
     }
    }
   },
   "outputs": [
    {
     "output_type": "stream",
     "name": "stdout",
     "text": [
      "order_id                  0\n",
      "customer_id               0\n",
      "order_date                0\n",
      "promised_delivery_time    0\n",
      "actual_delivery_time      0\n",
      "delivery_status           0\n",
      "order_total               0\n",
      "payment_method            0\n",
      "delivery_partner_id       0\n",
      "store_id                  0\n",
      "dtype: int64"
     ]
    }
   ],
   "source": [
    "print(df.isnull().sum())"
   ],
   "id": "cell-5"
  },
  {
   "cell_type": "code",
   "execution_count": null,
   "metadata": {},
   "outputs": [],
   "source": [
    "#descriptive stats of the dataset\n",
    "descriptive_stats=df.describe()\n",
    "print(descriptive_stats)"
   ],
   "id": "cell-6"
  },
  {
   "cell_type": "code",
   "execution_count": null,
   "metadata": {
    "outputId": "e8f89ffd-39d2-4a77-e326-11719f199f91",
    "quarto-private-1": {
     "key": "colab",
     "value": {
      "base_uri": "https://localhost:8080/",
      "height": 397
     }
    }
   },
   "outputs": [
    {
     "output_type": "display_data",
     "metadata": {},
     "data": {
      "text/html": [
       "\n",
       "</div><br><label><b>dtype:</b> object</label>"
      ]
     }
    }
   ],
   "source": [
    "df.dtypes"
   ],
   "id": "cell-7"
  }
 ],
 "nbformat": 4,
 "nbformat_minor": 5,
 "metadata": {}
}
