{
 "cells": [
  {
   "cell_type": "markdown",
   "metadata": {},
   "source": [
    "#"
   ],
   "id": "ff770b71-b9a1-4791-8c41-206cc1dda258"
  },
  {
   "cell_type": "markdown",
   "metadata": {},
   "source": [
    "<a href=\"https://colab.research.google.com/github/plot-masters/customer-segmentation/blob/main/notebook/customer_segmentation_model.ipynb\" target=\"_parent\"><img src=\"https://colab.research.google.com/assets/colab-badge.svg\" alt=\"Open In Colab\"/></a>"
   ],
   "id": "cell-0"
  },
  {
   "cell_type": "markdown",
   "metadata": {},
   "source": [
    "## Customer Segmentation Modelling"
   ],
   "id": "cell-1"
  },
  {
   "cell_type": "code",
   "execution_count": null,
   "metadata": {},
   "outputs": [],
   "source": [
    "import pandas as pd\n",
    "\n",
    "df=pd.read_csv('/content/blinkit_orders.csv')"
   ],
   "id": "cell-2"
  },
  {
   "cell_type": "code",
   "execution_count": 8,
   "metadata": {
    "outputId": "b769b182-f591-4d04-8fee-b17e3adb161f",
    "quarto-private-1": {
     "key": "colab",
     "value": {
      "base_uri": "https://localhost:8080/"
     }
    }
   },
   "outputs": [
    {
     "output_type": "display_data",
     "metadata": {},
     "data": {
      "text/html": [
       "\n",
       "</div>"
      ]
     }
    }
   ],
   "source": [
    "head_row=df.head(10)\n",
    "display(head_row)"
   ],
   "id": "cell-3"
  },
  {
   "cell_type": "code",
   "execution_count": 24,
   "metadata": {
    "outputId": "da862376-3a1e-4655-e44a-e3d015f95435",
    "quarto-private-1": {
     "key": "colab",
     "value": {
      "base_uri": "https://localhost:8080/"
     }
    }
   },
   "outputs": [
    {
     "output_type": "stream",
     "name": "stdout",
     "text": [
      "<class 'pandas.core.frame.DataFrame'>\n",
      "RangeIndex: 5000 entries, 0 to 4999\n",
      "Data columns (total 10 columns):\n",
      " #   Column                  Non-Null Count  Dtype  \n",
      "---  ------                  --------------  -----  \n",
      " 0   order_id                5000 non-null   int64  \n",
      " 1   customer_id             5000 non-null   int64  \n",
      " 2   order_date              5000 non-null   object \n",
      " 3   promised_delivery_time  5000 non-null   object \n",
      " 4   actual_delivery_time    5000 non-null   object \n",
      " 5   delivery_status         5000 non-null   object \n",
      " 6   order_total             5000 non-null   float64\n",
      " 7   payment_method          5000 non-null   object \n",
      " 8   delivery_partner_id     5000 non-null   int64  \n",
      " 9   store_id                5000 non-null   int64  \n",
      "dtypes: float64(1), int64(4), object(5)\n",
      "memory usage: 390.8+ KB"
     ]
    }
   ],
   "source": [
    "df_info=df.info()"
   ],
   "id": "cell-4"
  },
  {
   "cell_type": "code",
   "execution_count": 27,
   "metadata": {
    "outputId": "a22dd6d4-f8dc-4af6-8264-cbe35a838d72",
    "quarto-private-1": {
     "key": "colab",
     "value": {
      "base_uri": "https://localhost:8080/"
     }
    }
   },
   "outputs": [
    {
     "output_type": "display_data",
     "metadata": {},
     "data": {
      "text/plain": [
       "order_id                  0\n",
       "customer_id               0\n",
       "order_date                0\n",
       "promised_delivery_time    0\n",
       "actual_delivery_time      0\n",
       "delivery_status           0\n",
       "order_total               0\n",
       "payment_method            0\n",
       "delivery_partner_id       0\n",
       "store_id                  0\n",
       "dtype: int64"
      ]
     }
    }
   ],
   "source": [
    "display(df.isnull().sum())"
   ],
   "id": "cell-5"
  },
  {
   "cell_type": "code",
   "execution_count": 26,
   "metadata": {
    "outputId": "71444e70-48d9-4406-d4ce-70f693b168c4",
    "quarto-private-1": {
     "key": "colab",
     "value": {
      "base_uri": "https://localhost:8080/"
     }
    }
   },
   "outputs": [
    {
     "output_type": "display_data",
     "metadata": {},
     "data": {
      "text/html": [
       "\n",
       "</div>"
      ]
     }
    }
   ],
   "source": [
    "#descriptive stats of the dataset\n",
    "descriptive_stats=df.describe()\n",
    "display(descriptive_stats)"
   ],
   "id": "cell-6"
  },
  {
   "cell_type": "code",
   "execution_count": null,
   "metadata": {
    "outputId": "30ee3661-644c-437c-8627-fddfb147b4f3",
    "quarto-private-1": {
     "key": "colab",
     "value": {
      "base_uri": "https://localhost:8080/",
      "height": 397
     }
    }
   },
   "outputs": [
    {
     "output_type": "display_data",
     "metadata": {},
     "data": {
      "text/html": [
       "\n",
       "</div><br><label><b>dtype:</b> object</label>"
      ]
     }
    }
   ],
   "source": [
    "df.dtypes"
   ],
   "id": "cell-7"
  },
  {
   "cell_type": "code",
   "execution_count": 31,
   "metadata": {
    "outputId": "b1f99bbe-a498-45ba-82bd-0ce1afed6d26",
    "quarto-private-1": {
     "key": "colab",
     "value": {
      "base_uri": "https://localhost:8080/"
     }
    }
   },
   "outputs": [
    {
     "output_type": "display_data",
     "metadata": {},
     "data": {
      "text/plain": [
       "'Shape of DataFrame:'"
      ]
     }
    },
    {
     "output_type": "display_data",
     "metadata": {},
     "data": {
      "text/plain": [
       "(5000, 10)"
      ]
     }
    },
    {
     "output_type": "display_data",
     "metadata": {},
     "data": {
      "text/plain": [
       "'Data Types:'"
      ]
     }
    },
    {
     "output_type": "display_data",
     "metadata": {},
     "data": {
      "text/plain": [
       "order_id                    int64\n",
       "customer_id                 int64\n",
       "order_date                 object\n",
       "promised_delivery_time     object\n",
       "actual_delivery_time       object\n",
       "delivery_status            object\n",
       "order_total               float64\n",
       "payment_method             object\n",
       "delivery_partner_id         int64\n",
       "store_id                    int64\n",
       "dtype: object"
      ]
     }
    },
    {
     "output_type": "display_data",
     "metadata": {},
     "data": {
      "text/plain": [
       "'First 5 Rows:'"
      ]
     }
    },
    {
     "output_type": "display_data",
     "metadata": {},
     "data": {
      "text/html": [
       "\n",
       "</div>"
      ]
     }
    }
   ],
   "source": [
    "#shape\n",
    "display(\"Shape of DataFrame:\", df.shape)\n",
    "display(\"Data Types:\", df.dtypes)\n",
    "display(\"First 5 Rows:\", df.head())"
   ],
   "id": "cell-8"
  },
  {
   "cell_type": "code",
   "execution_count": null,
   "metadata": {
    "outputId": "05bd1a6d-00fb-4d66-e46c-355f18d24c57",
    "quarto-private-1": {
     "key": "colab",
     "value": {
      "base_uri": "https://localhost:8080/"
     }
    }
   },
   "outputs": [
    {
     "output_type": "stream",
     "name": "stdout",
     "text": [
      "Missing Values:\n",
      "order_id                  0\n",
      "customer_id               0\n",
      "order_date                0\n",
      "promised_delivery_time    0\n",
      "actual_delivery_time      0\n",
      "delivery_status           0\n",
      "order_total               0\n",
      "payment_method            0\n",
      "delivery_partner_id       0\n",
      "store_id                  0\n",
      "dtype: int64"
     ]
    },
    {
     "output_type": "display_data",
     "metadata": {},
     "data": {
      "text/plain": [
       "order_id                  0\n",
       "customer_id               0\n",
       "order_date                0\n",
       "promised_delivery_time    0\n",
       "actual_delivery_time      0\n",
       "delivery_status           0\n",
       "order_total               0\n",
       "payment_method            0\n",
       "delivery_partner_id       0\n",
       "store_id                  0\n",
       "dtype: int64"
      ]
     }
    }
   ],
   "source": [
    "#missing values\n",
    "print('Missing Values:', df.isnull().sum(), sep=\"\\n\")"
   ],
   "id": "cell-9"
  },
  {
   "cell_type": "code",
   "execution_count": 38,
   "metadata": {
    "outputId": "d2fadb98-0591-485c-d715-c946f14a2e75",
    "quarto-private-1": {
     "key": "colab",
     "value": {
      "base_uri": "https://localhost:8080/"
     }
    }
   },
   "outputs": [
    {
     "output_type": "stream",
     "name": "stdout",
     "text": [
      "Number of Duplicated Rows: 0"
     ]
    }
   ],
   "source": [
    "# duplicates\n",
    "print(\"Number of Duplicated Rows:\", df.duplicated().sum())"
   ],
   "id": "cell-10"
  },
  {
   "cell_type": "code",
   "execution_count": 41,
   "metadata": {
    "outputId": "97ad4ddb-d073-466d-fd39-c45faa90d6fd",
    "quarto-private-1": {
     "key": "colab",
     "value": {
      "base_uri": "https://localhost:8080/"
     }
    }
   },
   "outputs": [
    {
     "output_type": "stream",
     "name": "stdout",
     "text": [
      "Descriptive Statistics:\n"
     ]
    },
    {
     "output_type": "display_data",
     "metadata": {},
     "data": {
      "text/html": [
       "\n",
       "</div>"
      ]
     }
    }
   ],
   "source": [
    "#checking anomalies\n",
    "print(\"Descriptive Statistics:\\n\")\n",
    "\n",
    "display(df.describe(include='all'))"
   ],
   "id": "cell-11"
  },
  {
   "cell_type": "code",
   "execution_count": 44,
   "metadata": {
    "outputId": "b1226ff7-310e-4f7b-fd33-486dae9c1f69",
    "quarto-private-1": {
     "key": "colab",
     "value": {
      "base_uri": "https://localhost:8080/"
     }
    }
   },
   "outputs": [
    {
     "output_type": "stream",
     "name": "stdout",
     "text": [
      "Categorical Column Summary:\n"
     ]
    },
    {
     "output_type": "display_data",
     "metadata": {},
     "data": {
      "text/html": [
       "\n",
       "</div>"
      ]
     }
    }
   ],
   "source": [
    "print(\"Categorical Column Summary:\\n\")\n",
    "\n",
    "display(df.describe(include=['object']))"
   ],
   "id": "cell-12"
  },
  {
   "cell_type": "code",
   "execution_count": null,
   "metadata": {
    "outputId": "f5e4a541-9c4d-451f-90c1-a65577632978",
    "quarto-private-1": {
     "key": "colab",
     "value": {
      "base_uri": "https://localhost:8080/"
     }
    }
   },
   "outputs": [
    {
     "output_type": "stream",
     "name": "stdout",
     "text": [
      "\n",
      " Rows with Invalid (≤0) Order Total:\n",
      " Empty DataFrame\n",
      "Columns: [order_id, customer_id, order_date, promised_delivery_time, actual_delivery_time, delivery_status, order_total, payment_method, delivery_partner_id, store_id]\n",
      "Index: []"
     ]
    }
   ],
   "source": [
    "if 'order_total' in df.columns:\n",
    "    invalid_order_total = df[df['order_total'] <= 0]\n",
    "    print(\"\\n Rows with Invalid (≤0) Order Total:\\n\", invalid_order_total)"
   ],
   "id": "cell-13"
  },
  {
   "cell_type": "code",
   "execution_count": null,
   "metadata": {
    "outputId": "0a8c8a51-372d-4317-af4f-682363519174",
    "quarto-private-1": {
     "key": "colab",
     "value": {
      "base_uri": "https://localhost:8080/"
     }
    }
   },
   "outputs": [
    {
     "output_type": "stream",
     "name": "stderr",
     "text": [
      "/tmp/ipython-input-2044985845.py:4: UserWarning: Could not infer format, so each element will be parsed individually, falling back to `dateutil`. To ensure parsing is consistent and as-expected, please specify a format.\n",
      "  df['promised_delivery_time'] = pd.to_datetime(df['promised_delivery_time'], errors='coerce')\n",
      "/tmp/ipython-input-2044985845.py:5: UserWarning: Could not infer format, so each element will be parsed individually, falling back to `dateutil`. To ensure parsing is consistent and as-expected, please specify a format.\n",
      "  df['actual_delivery_time'] = pd.to_datetime(df['actual_delivery_time'], errors='coerce')"
     ]
    },
    {
     "output_type": "stream",
     "name": "stdout",
     "text": [
      "\n",
      "Rows with Invalid Delivery Times (Before Order Date):\n",
      "         order_id  customer_id      order_date promised_delivery_time  \\\n",
      "1281  2148242015     39093069  30-04-23 23:48    2023-01-05 00:04:00   \n",
      "1563  7821942520     84468124  12-02-24 23:57    2024-02-13 00:12:00   \n",
      "2933  3368317718     70867736  31-05-24 23:59    2024-01-06 00:17:00   \n",
      "\n",
      "     actual_delivery_time        delivery_status  order_total payment_method  \\\n",
      "1281  2023-01-05 00:33:00  Significantly Delayed      3239.66            UPI   \n",
      "1563  2024-02-13 00:13:00                On Time      2732.91         Wallet   \n",
      "2933  2024-01-06 00:12:00                On Time       914.88            UPI   \n",
      "\n",
      "      delivery_partner_id  store_id  \n",
      "1281                13676      9904  \n",
      "1563                11136      5805  \n",
      "2933                96055       522  "
     ]
    }
   ],
   "source": [
    "#inconsistent date. need to be rectified before proceeding. need to be in the same format in all columns.\n",
    "#invalid rows can be removed\n",
    "if {'promised_delivery_time', 'actual_delivery_time'}.issubset(df.columns):\n",
    "    df['promised_delivery_time'] = pd.to_datetime(df['promised_delivery_time'], errors='coerce')\n",
    "    df['actual_delivery_time'] = pd.to_datetime(df['actual_delivery_time'], errors='coerce')\n",
    "    invalid_delivery = df[df['actual_delivery_time'] < df['order_date']]\n",
    "    print(\"\\nRows with Invalid Delivery Times (Before Order Date):\\n\", invalid_delivery)\n"
   ],
   "id": "cell-14"
  },
  {
   "cell_type": "code",
   "execution_count": 43,
   "metadata": {
    "outputId": "99fd582d-1ef0-4d1b-91d2-e055f2b89c81",
    "quarto-private-1": {
     "key": "colab",
     "value": {
      "base_uri": "https://localhost:8080/"
     }
    }
   },
   "outputs": [
    {
     "output_type": "stream",
     "name": "stdout",
     "text": [
      "Unique Value Counts per Column:\n",
      "order_id                  5000\n",
      "customer_id               2172\n",
      "order_date                5000\n",
      "promised_delivery_time    4999\n",
      "actual_delivery_time      5000\n",
      "delivery_status              3\n",
      "order_total               4550\n",
      "payment_method               4\n",
      "delivery_partner_id       5000\n",
      "store_id                  5000\n",
      "dtype: int64"
     ]
    }
   ],
   "source": [
    "#unique countsin each column\n",
    "print(\"Unique Value Counts per Column:\", df.nunique(), sep=\"\\n\")"
   ],
   "id": "cell-15"
  }
 ],
 "nbformat": 4,
 "nbformat_minor": 5,
 "metadata": {}
}
